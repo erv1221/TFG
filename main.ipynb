{
  "nbformat": 4,
  "nbformat_minor": 0,
  "metadata": {
    "colab": {
      "provenance": []
    },
    "kernelspec": {
      "name": "python3",
      "display_name": "Python 3"
    },
    "language_info": {
      "name": "python"
    }
  },
  "cells": [
    {
      "cell_type": "code",
      "execution_count": null,
      "metadata": {
        "id": "VA2TZYHE505u"
      },
      "outputs": [],
      "source": [
        "# Se importan las librerías necesarias\n",
        "import numpy as np\n",
        "import pandas as pd\n",
        "import matplotlib.pyplot as plt\n",
        "import seaborn as sns\n",
        "\n",
        "#Normalización , codificación y división\n",
        "from sklearn.model_selection import GridSearchCV \n",
        "from sklearn.compose import ColumnTransformer \n",
        "from sklearn.preprocessing import OneHotEncoder\n",
        "from sklearn.compose import make_column_transformer\n",
        "from sklearn.model_selection import train_test_split\n",
        "from sklearn.preprocessing import StandardScaler\n",
        "\n",
        "#Librerías modelos de clasificación\n",
        "from sklearn.linear_model import LogisticRegression\n",
        "from sklearn.tree import DecisionTreeClassifier\n",
        "from sklearn.ensemble import ExtraTreesClassifier\n",
        "from sklearn.neighbors import KNeighborsClassifier\n",
        "from sklearn.ensemble import RandomForestClassifier\n",
        "from sklearn.ensemble import ExtraTreesClassifier\n",
        "from sklearn.neural_network import MLPClassifier\n",
        "\n",
        "import warnings\n",
        "\n",
        "#Librerías para métricas\n",
        "from sklearn import metrics\n",
        "from sklearn.metrics import f1_score, precision_score, recall_score, accuracy_score\n",
        "from sklearn.metrics import classification_report, confusion_matrix\n",
        "from sklearn.metrics import precision_recall_curve\n",
        "from sklearn.metrics import auc\n",
        "from time import time \n",
        "\n",
        "\n"
      ]
    },
    {
      "cell_type": "markdown",
      "source": [
        "Recopilación y exploración del conjunto de datos"
      ],
      "metadata": {
        "id": "Z1z1TKKy6KjI"
      }
    },
    {
      "cell_type": "code",
      "source": [
        "# Cargamos el training dataset\n",
        "df = pd.read_csv('UNSW_NB15_training-set.csv',header=0) \n",
        "df.columns = ['id','dur','proto','service','state','spkts','dpkts',\n",
        "                       'sbytes','dbytes','rate','sttl','dttl','sload','dload',\n",
        "                       'sloss','dloss','sintpkt','dintpkt','sjit', 'djit',\n",
        "                       'swin','stcpb','dtcpb','dwin','tcprtt','synack','ackdat',\n",
        "                       'smean','dmean','trans_depth','res_bdy_len', 'ct_srv_dst',\n",
        "                       'ct_state_ttl','ct_dst_ltm','ct_src_dport_ltm','ct_dst_sport_ltm',\n",
        "                       'ct_dst_src_ltm','is_ftp_login','ct_ftp_cmd','ct_flw_http_mthd',\n",
        "                       'ct_src_ltm','ct_srv_src','is_sm_ips_ports','attack_cat','label'] \n",
        "\n",
        "#Limpieza de datos\n",
        "# Eliminamos las columnas id y label\n",
        "df= df.drop(['id'],1) \n",
        "\n",
        "# TRATAMIENTO DE VALORES DUPLICADOS O NULOS\n",
        "\n",
        "# La columna ct_ftp_cmd tiene entradas invalidas.\n",
        "# Las convertimos en numericas y sobreescribimos el resto con valores nulos\n",
        "df['ct_ftp_cmd']=pd.to_numeric(df['ct_ftp_cmd'], errors='coerce').fillna(0).astype('int64') \n",
        "df=df.fillna(0) \n",
        "\n",
        "# Eliminamos los espacios para evitar duplicados: \n",
        "df['attack_cat']=df['attack_cat'].str.strip()\n",
        "df['attack_cat'].value_counts()\n",
        "\n",
        "# Remplezamos los valores nulos de la columna 'attack_cat' por 'normal'\n",
        "df['attack_cat'].fillna('Normal',inplace=True)\n",
        "df['attack_cat'].value_counts()\n",
        "\n",
        "#comprobamos que no falten valores\n",
        "df.isna().sum()\n",
        "\n",
        "df.info()\n",
        "df.shape\n",
        "\n",
        "# Reemplazamos '-' en state y service por 'otro'\n",
        "df['state'] = df['state'].replace('-','otro')\n",
        "df['service'] = df['service'].replace('-','otro')\n",
        "\n",
        "df.groupby('attack_cat').size()\n",
        "\n",
        "#Agrupamos Backdoor y Backdoors\n",
        "df['attack_cat'] = df['attack_cat'].apply(lambda item: 'Backdoor' if item =='Backdoors' else item)\n",
        "attack_by_cat = df.groupby('attack_cat').size().reset_index(name='counts')\n",
        "attack_by_cat = attack_by_cat.sort_values(by = \"counts\", ascending=False) \n",
        "attack_by_cat = attack_by_cat.reset_index()\n",
        "attack_by_cat"
      ],
      "metadata": {
        "colab": {
          "base_uri": "https://localhost:8080/",
          "height": 1000
        },
        "id": "GwrvWOBS6Oxy",
        "outputId": "094d03ca-e564-4998-ab63-b89cf899a7ad"
      },
      "execution_count": null,
      "outputs": [
        {
          "output_type": "stream",
          "name": "stdout",
          "text": [
            "<class 'pandas.core.frame.DataFrame'>\n",
            "RangeIndex: 82332 entries, 0 to 82331\n",
            "Data columns (total 44 columns):\n",
            " #   Column            Non-Null Count  Dtype  \n",
            "---  ------            --------------  -----  \n",
            " 0   dur               82332 non-null  float64\n",
            " 1   proto             82332 non-null  object \n",
            " 2   service           82332 non-null  object \n",
            " 3   state             82332 non-null  object \n",
            " 4   spkts             82332 non-null  int64  \n",
            " 5   dpkts             82332 non-null  int64  \n",
            " 6   sbytes            82332 non-null  int64  \n",
            " 7   dbytes            82332 non-null  int64  \n",
            " 8   rate              82332 non-null  float64\n",
            " 9   sttl              82332 non-null  int64  \n",
            " 10  dttl              82332 non-null  int64  \n",
            " 11  sload             82332 non-null  float64\n",
            " 12  dload             82332 non-null  float64\n",
            " 13  sloss             82332 non-null  int64  \n",
            " 14  dloss             82332 non-null  int64  \n",
            " 15  sintpkt           82332 non-null  float64\n",
            " 16  dintpkt           82332 non-null  float64\n",
            " 17  sjit              82332 non-null  float64\n",
            " 18  djit              82332 non-null  float64\n",
            " 19  swin              82332 non-null  int64  \n",
            " 20  stcpb             82332 non-null  int64  \n",
            " 21  dtcpb             82332 non-null  int64  \n",
            " 22  dwin              82332 non-null  int64  \n",
            " 23  tcprtt            82332 non-null  float64\n",
            " 24  synack            82332 non-null  float64\n",
            " 25  ackdat            82332 non-null  float64\n",
            " 26  smean             82332 non-null  int64  \n",
            " 27  dmean             82332 non-null  int64  \n",
            " 28  trans_depth       82332 non-null  int64  \n",
            " 29  res_bdy_len       82332 non-null  int64  \n",
            " 30  ct_srv_dst        82332 non-null  int64  \n",
            " 31  ct_state_ttl      82332 non-null  int64  \n",
            " 32  ct_dst_ltm        82332 non-null  int64  \n",
            " 33  ct_src_dport_ltm  82332 non-null  int64  \n",
            " 34  ct_dst_sport_ltm  82332 non-null  int64  \n",
            " 35  ct_dst_src_ltm    82332 non-null  int64  \n",
            " 36  is_ftp_login      82332 non-null  int64  \n",
            " 37  ct_ftp_cmd        82332 non-null  int64  \n",
            " 38  ct_flw_http_mthd  82332 non-null  int64  \n",
            " 39  ct_src_ltm        82332 non-null  int64  \n",
            " 40  ct_srv_src        82332 non-null  int64  \n",
            " 41  is_sm_ips_ports   82332 non-null  int64  \n",
            " 42  attack_cat        82332 non-null  object \n",
            " 43  label             82332 non-null  int64  \n",
            "dtypes: float64(11), int64(29), object(4)\n",
            "memory usage: 27.6+ MB\n"
          ]
        },
        {
          "output_type": "stream",
          "name": "stderr",
          "text": [
            "/usr/local/lib/python3.7/dist-packages/ipykernel_launcher.py:14: FutureWarning:\n",
            "\n",
            "In a future version of pandas all arguments of DataFrame.drop except for the argument 'labels' will be keyword-only\n",
            "\n"
          ]
        },
        {
          "output_type": "execute_result",
          "data": {
            "text/plain": [
              "   index      attack_cat  counts\n",
              "0      6          Normal   37000\n",
              "1      5         Generic   18871\n",
              "2      3        Exploits   11132\n",
              "3      4         Fuzzers    6062\n",
              "4      2             DoS    4089\n",
              "5      7  Reconnaissance    3496\n",
              "6      0        Analysis     677\n",
              "7      1        Backdoor     583\n",
              "8      8       Shellcode     378\n",
              "9      9           Worms      44"
            ],
            "text/html": [
              "\n",
              "  <div id=\"df-50c06d01-46f1-4817-9ec3-c98062f12f08\">\n",
              "    <div class=\"colab-df-container\">\n",
              "      <div>\n",
              "<style scoped>\n",
              "    .dataframe tbody tr th:only-of-type {\n",
              "        vertical-align: middle;\n",
              "    }\n",
              "\n",
              "    .dataframe tbody tr th {\n",
              "        vertical-align: top;\n",
              "    }\n",
              "\n",
              "    .dataframe thead th {\n",
              "        text-align: right;\n",
              "    }\n",
              "</style>\n",
              "<table border=\"1\" class=\"dataframe\">\n",
              "  <thead>\n",
              "    <tr style=\"text-align: right;\">\n",
              "      <th></th>\n",
              "      <th>index</th>\n",
              "      <th>attack_cat</th>\n",
              "      <th>counts</th>\n",
              "    </tr>\n",
              "  </thead>\n",
              "  <tbody>\n",
              "    <tr>\n",
              "      <th>0</th>\n",
              "      <td>6</td>\n",
              "      <td>Normal</td>\n",
              "      <td>37000</td>\n",
              "    </tr>\n",
              "    <tr>\n",
              "      <th>1</th>\n",
              "      <td>5</td>\n",
              "      <td>Generic</td>\n",
              "      <td>18871</td>\n",
              "    </tr>\n",
              "    <tr>\n",
              "      <th>2</th>\n",
              "      <td>3</td>\n",
              "      <td>Exploits</td>\n",
              "      <td>11132</td>\n",
              "    </tr>\n",
              "    <tr>\n",
              "      <th>3</th>\n",
              "      <td>4</td>\n",
              "      <td>Fuzzers</td>\n",
              "      <td>6062</td>\n",
              "    </tr>\n",
              "    <tr>\n",
              "      <th>4</th>\n",
              "      <td>2</td>\n",
              "      <td>DoS</td>\n",
              "      <td>4089</td>\n",
              "    </tr>\n",
              "    <tr>\n",
              "      <th>5</th>\n",
              "      <td>7</td>\n",
              "      <td>Reconnaissance</td>\n",
              "      <td>3496</td>\n",
              "    </tr>\n",
              "    <tr>\n",
              "      <th>6</th>\n",
              "      <td>0</td>\n",
              "      <td>Analysis</td>\n",
              "      <td>677</td>\n",
              "    </tr>\n",
              "    <tr>\n",
              "      <th>7</th>\n",
              "      <td>1</td>\n",
              "      <td>Backdoor</td>\n",
              "      <td>583</td>\n",
              "    </tr>\n",
              "    <tr>\n",
              "      <th>8</th>\n",
              "      <td>8</td>\n",
              "      <td>Shellcode</td>\n",
              "      <td>378</td>\n",
              "    </tr>\n",
              "    <tr>\n",
              "      <th>9</th>\n",
              "      <td>9</td>\n",
              "      <td>Worms</td>\n",
              "      <td>44</td>\n",
              "    </tr>\n",
              "  </tbody>\n",
              "</table>\n",
              "</div>\n",
              "      <button class=\"colab-df-convert\" onclick=\"convertToInteractive('df-50c06d01-46f1-4817-9ec3-c98062f12f08')\"\n",
              "              title=\"Convert this dataframe to an interactive table.\"\n",
              "              style=\"display:none;\">\n",
              "        \n",
              "  <svg xmlns=\"http://www.w3.org/2000/svg\" height=\"24px\"viewBox=\"0 0 24 24\"\n",
              "       width=\"24px\">\n",
              "    <path d=\"M0 0h24v24H0V0z\" fill=\"none\"/>\n",
              "    <path d=\"M18.56 5.44l.94 2.06.94-2.06 2.06-.94-2.06-.94-.94-2.06-.94 2.06-2.06.94zm-11 1L8.5 8.5l.94-2.06 2.06-.94-2.06-.94L8.5 2.5l-.94 2.06-2.06.94zm10 10l.94 2.06.94-2.06 2.06-.94-2.06-.94-.94-2.06-.94 2.06-2.06.94z\"/><path d=\"M17.41 7.96l-1.37-1.37c-.4-.4-.92-.59-1.43-.59-.52 0-1.04.2-1.43.59L10.3 9.45l-7.72 7.72c-.78.78-.78 2.05 0 2.83L4 21.41c.39.39.9.59 1.41.59.51 0 1.02-.2 1.41-.59l7.78-7.78 2.81-2.81c.8-.78.8-2.07 0-2.86zM5.41 20L4 18.59l7.72-7.72 1.47 1.35L5.41 20z\"/>\n",
              "  </svg>\n",
              "      </button>\n",
              "      \n",
              "  <style>\n",
              "    .colab-df-container {\n",
              "      display:flex;\n",
              "      flex-wrap:wrap;\n",
              "      gap: 12px;\n",
              "    }\n",
              "\n",
              "    .colab-df-convert {\n",
              "      background-color: #E8F0FE;\n",
              "      border: none;\n",
              "      border-radius: 50%;\n",
              "      cursor: pointer;\n",
              "      display: none;\n",
              "      fill: #1967D2;\n",
              "      height: 32px;\n",
              "      padding: 0 0 0 0;\n",
              "      width: 32px;\n",
              "    }\n",
              "\n",
              "    .colab-df-convert:hover {\n",
              "      background-color: #E2EBFA;\n",
              "      box-shadow: 0px 1px 2px rgba(60, 64, 67, 0.3), 0px 1px 3px 1px rgba(60, 64, 67, 0.15);\n",
              "      fill: #174EA6;\n",
              "    }\n",
              "\n",
              "    [theme=dark] .colab-df-convert {\n",
              "      background-color: #3B4455;\n",
              "      fill: #D2E3FC;\n",
              "    }\n",
              "\n",
              "    [theme=dark] .colab-df-convert:hover {\n",
              "      background-color: #434B5C;\n",
              "      box-shadow: 0px 1px 3px 1px rgba(0, 0, 0, 0.15);\n",
              "      filter: drop-shadow(0px 1px 2px rgba(0, 0, 0, 0.3));\n",
              "      fill: #FFFFFF;\n",
              "    }\n",
              "  </style>\n",
              "\n",
              "      <script>\n",
              "        const buttonEl =\n",
              "          document.querySelector('#df-50c06d01-46f1-4817-9ec3-c98062f12f08 button.colab-df-convert');\n",
              "        buttonEl.style.display =\n",
              "          google.colab.kernel.accessAllowed ? 'block' : 'none';\n",
              "\n",
              "        async function convertToInteractive(key) {\n",
              "          const element = document.querySelector('#df-50c06d01-46f1-4817-9ec3-c98062f12f08');\n",
              "          const dataTable =\n",
              "            await google.colab.kernel.invokeFunction('convertToInteractive',\n",
              "                                                     [key], {});\n",
              "          if (!dataTable) return;\n",
              "\n",
              "          const docLinkHtml = 'Like what you see? Visit the ' +\n",
              "            '<a target=\"_blank\" href=https://colab.research.google.com/notebooks/data_table.ipynb>data table notebook</a>'\n",
              "            + ' to learn more about interactive tables.';\n",
              "          element.innerHTML = '';\n",
              "          dataTable['output_type'] = 'display_data';\n",
              "          await google.colab.output.renderOutput(dataTable, element);\n",
              "          const docLink = document.createElement('div');\n",
              "          docLink.innerHTML = docLinkHtml;\n",
              "          element.appendChild(docLink);\n",
              "        }\n",
              "      </script>\n",
              "    </div>\n",
              "  </div>\n",
              "  "
            ]
          },
          "metadata": {},
          "execution_count": 510
        }
      ]
    },
    {
      "cell_type": "markdown",
      "source": [
        "Normalización y codificación"
      ],
      "metadata": {
        "id": "0-AS0DzV6Zqk"
      }
    },
    {
      "cell_type": "code",
      "source": [
        "#NORMALIZACIÓN\n",
        "\n",
        "\n",
        "# Creamos un diccionario para signar un valor numérico a cada ataque\n",
        "attack_cat_dic = {\n",
        "    'Normal':0,\n",
        "    'Generic':1,\n",
        "    'Exploits':2,\n",
        "    'Fuzzers':3,\n",
        "    'DoS':4,\n",
        "    'Reconnaissance':5,     \n",
        "    'Analysis':6,          \n",
        "    'Backdoor':7,\n",
        "    'Shellcode':8,\n",
        "    'Worms': 9\n",
        "    }\n",
        "df['attack_cat'] = df['attack_cat'].replace(attack_cat_dic)\n",
        "\n",
        "#seleccionamos los valores númericos\n",
        "df_num = df.select_dtypes(include=[np.number])\n",
        "df_num.describe(include='all')\n",
        "\n",
        "\n"
      ],
      "metadata": {
        "colab": {
          "base_uri": "https://localhost:8080/",
          "height": 393
        },
        "id": "PXZWpeNH6X7c",
        "outputId": "bcc1eae8-a762-4beb-c1bd-bf4b6ea8d70b"
      },
      "execution_count": null,
      "outputs": [
        {
          "output_type": "execute_result",
          "data": {
            "text/plain": [
              "                dur         spkts         dpkts        sbytes        dbytes  \\\n",
              "count  82332.000000  82332.000000  82332.000000  8.233200e+04  8.233200e+04   \n",
              "mean       1.006756     18.666472     17.545936  7.993908e+03  1.323379e+04   \n",
              "std        4.710444    133.916353    115.574086  1.716423e+05  1.514715e+05   \n",
              "min        0.000000      1.000000      0.000000  2.400000e+01  0.000000e+00   \n",
              "25%        0.000008      2.000000      0.000000  1.140000e+02  0.000000e+00   \n",
              "50%        0.014138      6.000000      2.000000  5.340000e+02  1.780000e+02   \n",
              "75%        0.719360     12.000000     10.000000  1.280000e+03  9.560000e+02   \n",
              "max       59.999989  10646.000000  11018.000000  1.435577e+07  1.465753e+07   \n",
              "\n",
              "               rate          sttl          dttl         sload         dload  \\\n",
              "count  8.233200e+04  82332.000000  82332.000000  8.233200e+04  8.233200e+04   \n",
              "mean   8.241089e+04    180.967667     95.713003  6.454902e+07  6.305470e+05   \n",
              "std    1.486204e+05    101.513358    116.667722  1.798618e+08  2.393001e+06   \n",
              "min    0.000000e+00      0.000000      0.000000  0.000000e+00  0.000000e+00   \n",
              "25%    2.860611e+01     62.000000      0.000000  1.120247e+04  0.000000e+00   \n",
              "50%    2.650177e+03    254.000000     29.000000  5.770032e+05  2.112951e+03   \n",
              "75%    1.111111e+05    254.000000    252.000000  6.514286e+07  1.585808e+04   \n",
              "max    1.000000e+06    255.000000    253.000000  5.268000e+09  2.082111e+07   \n",
              "\n",
              "       ...  ct_dst_sport_ltm  ct_dst_src_ltm  is_ftp_login    ct_ftp_cmd  \\\n",
              "count  ...      82332.000000    82332.000000  82332.000000  82332.000000   \n",
              "mean   ...          3.663011        7.456360      0.008284      0.008381   \n",
              "std    ...          5.915386       11.415191      0.091171      0.092485   \n",
              "min    ...          1.000000        1.000000      0.000000      0.000000   \n",
              "25%    ...          1.000000        1.000000      0.000000      0.000000   \n",
              "50%    ...          1.000000        3.000000      0.000000      0.000000   \n",
              "75%    ...          3.000000        6.000000      0.000000      0.000000   \n",
              "max    ...         38.000000       63.000000      2.000000      2.000000   \n",
              "\n",
              "       ct_flw_http_mthd    ct_src_ltm    ct_srv_src  is_sm_ips_ports  \\\n",
              "count      82332.000000  82332.000000  82332.000000     82332.000000   \n",
              "mean           0.129743      6.468360      9.164262         0.011126   \n",
              "std            0.638683      8.543927     11.121413         0.104891   \n",
              "min            0.000000      1.000000      1.000000         0.000000   \n",
              "25%            0.000000      1.000000      2.000000         0.000000   \n",
              "50%            0.000000      3.000000      5.000000         0.000000   \n",
              "75%            0.000000      7.000000     11.000000         0.000000   \n",
              "max           16.000000     60.000000     62.000000         1.000000   \n",
              "\n",
              "         attack_cat         label  \n",
              "count  82332.000000  82332.000000  \n",
              "mean       1.271923      0.550600  \n",
              "std        1.628266      0.497436  \n",
              "min        0.000000      0.000000  \n",
              "25%        0.000000      0.000000  \n",
              "50%        1.000000      1.000000  \n",
              "75%        2.000000      1.000000  \n",
              "max        9.000000      1.000000  \n",
              "\n",
              "[8 rows x 41 columns]"
            ],
            "text/html": [
              "\n",
              "  <div id=\"df-46bbcd11-943d-4fe7-bf43-102ac096481f\">\n",
              "    <div class=\"colab-df-container\">\n",
              "      <div>\n",
              "<style scoped>\n",
              "    .dataframe tbody tr th:only-of-type {\n",
              "        vertical-align: middle;\n",
              "    }\n",
              "\n",
              "    .dataframe tbody tr th {\n",
              "        vertical-align: top;\n",
              "    }\n",
              "\n",
              "    .dataframe thead th {\n",
              "        text-align: right;\n",
              "    }\n",
              "</style>\n",
              "<table border=\"1\" class=\"dataframe\">\n",
              "  <thead>\n",
              "    <tr style=\"text-align: right;\">\n",
              "      <th></th>\n",
              "      <th>dur</th>\n",
              "      <th>spkts</th>\n",
              "      <th>dpkts</th>\n",
              "      <th>sbytes</th>\n",
              "      <th>dbytes</th>\n",
              "      <th>rate</th>\n",
              "      <th>sttl</th>\n",
              "      <th>dttl</th>\n",
              "      <th>sload</th>\n",
              "      <th>dload</th>\n",
              "      <th>...</th>\n",
              "      <th>ct_dst_sport_ltm</th>\n",
              "      <th>ct_dst_src_ltm</th>\n",
              "      <th>is_ftp_login</th>\n",
              "      <th>ct_ftp_cmd</th>\n",
              "      <th>ct_flw_http_mthd</th>\n",
              "      <th>ct_src_ltm</th>\n",
              "      <th>ct_srv_src</th>\n",
              "      <th>is_sm_ips_ports</th>\n",
              "      <th>attack_cat</th>\n",
              "      <th>label</th>\n",
              "    </tr>\n",
              "  </thead>\n",
              "  <tbody>\n",
              "    <tr>\n",
              "      <th>count</th>\n",
              "      <td>82332.000000</td>\n",
              "      <td>82332.000000</td>\n",
              "      <td>82332.000000</td>\n",
              "      <td>8.233200e+04</td>\n",
              "      <td>8.233200e+04</td>\n",
              "      <td>8.233200e+04</td>\n",
              "      <td>82332.000000</td>\n",
              "      <td>82332.000000</td>\n",
              "      <td>8.233200e+04</td>\n",
              "      <td>8.233200e+04</td>\n",
              "      <td>...</td>\n",
              "      <td>82332.000000</td>\n",
              "      <td>82332.000000</td>\n",
              "      <td>82332.000000</td>\n",
              "      <td>82332.000000</td>\n",
              "      <td>82332.000000</td>\n",
              "      <td>82332.000000</td>\n",
              "      <td>82332.000000</td>\n",
              "      <td>82332.000000</td>\n",
              "      <td>82332.000000</td>\n",
              "      <td>82332.000000</td>\n",
              "    </tr>\n",
              "    <tr>\n",
              "      <th>mean</th>\n",
              "      <td>1.006756</td>\n",
              "      <td>18.666472</td>\n",
              "      <td>17.545936</td>\n",
              "      <td>7.993908e+03</td>\n",
              "      <td>1.323379e+04</td>\n",
              "      <td>8.241089e+04</td>\n",
              "      <td>180.967667</td>\n",
              "      <td>95.713003</td>\n",
              "      <td>6.454902e+07</td>\n",
              "      <td>6.305470e+05</td>\n",
              "      <td>...</td>\n",
              "      <td>3.663011</td>\n",
              "      <td>7.456360</td>\n",
              "      <td>0.008284</td>\n",
              "      <td>0.008381</td>\n",
              "      <td>0.129743</td>\n",
              "      <td>6.468360</td>\n",
              "      <td>9.164262</td>\n",
              "      <td>0.011126</td>\n",
              "      <td>1.271923</td>\n",
              "      <td>0.550600</td>\n",
              "    </tr>\n",
              "    <tr>\n",
              "      <th>std</th>\n",
              "      <td>4.710444</td>\n",
              "      <td>133.916353</td>\n",
              "      <td>115.574086</td>\n",
              "      <td>1.716423e+05</td>\n",
              "      <td>1.514715e+05</td>\n",
              "      <td>1.486204e+05</td>\n",
              "      <td>101.513358</td>\n",
              "      <td>116.667722</td>\n",
              "      <td>1.798618e+08</td>\n",
              "      <td>2.393001e+06</td>\n",
              "      <td>...</td>\n",
              "      <td>5.915386</td>\n",
              "      <td>11.415191</td>\n",
              "      <td>0.091171</td>\n",
              "      <td>0.092485</td>\n",
              "      <td>0.638683</td>\n",
              "      <td>8.543927</td>\n",
              "      <td>11.121413</td>\n",
              "      <td>0.104891</td>\n",
              "      <td>1.628266</td>\n",
              "      <td>0.497436</td>\n",
              "    </tr>\n",
              "    <tr>\n",
              "      <th>min</th>\n",
              "      <td>0.000000</td>\n",
              "      <td>1.000000</td>\n",
              "      <td>0.000000</td>\n",
              "      <td>2.400000e+01</td>\n",
              "      <td>0.000000e+00</td>\n",
              "      <td>0.000000e+00</td>\n",
              "      <td>0.000000</td>\n",
              "      <td>0.000000</td>\n",
              "      <td>0.000000e+00</td>\n",
              "      <td>0.000000e+00</td>\n",
              "      <td>...</td>\n",
              "      <td>1.000000</td>\n",
              "      <td>1.000000</td>\n",
              "      <td>0.000000</td>\n",
              "      <td>0.000000</td>\n",
              "      <td>0.000000</td>\n",
              "      <td>1.000000</td>\n",
              "      <td>1.000000</td>\n",
              "      <td>0.000000</td>\n",
              "      <td>0.000000</td>\n",
              "      <td>0.000000</td>\n",
              "    </tr>\n",
              "    <tr>\n",
              "      <th>25%</th>\n",
              "      <td>0.000008</td>\n",
              "      <td>2.000000</td>\n",
              "      <td>0.000000</td>\n",
              "      <td>1.140000e+02</td>\n",
              "      <td>0.000000e+00</td>\n",
              "      <td>2.860611e+01</td>\n",
              "      <td>62.000000</td>\n",
              "      <td>0.000000</td>\n",
              "      <td>1.120247e+04</td>\n",
              "      <td>0.000000e+00</td>\n",
              "      <td>...</td>\n",
              "      <td>1.000000</td>\n",
              "      <td>1.000000</td>\n",
              "      <td>0.000000</td>\n",
              "      <td>0.000000</td>\n",
              "      <td>0.000000</td>\n",
              "      <td>1.000000</td>\n",
              "      <td>2.000000</td>\n",
              "      <td>0.000000</td>\n",
              "      <td>0.000000</td>\n",
              "      <td>0.000000</td>\n",
              "    </tr>\n",
              "    <tr>\n",
              "      <th>50%</th>\n",
              "      <td>0.014138</td>\n",
              "      <td>6.000000</td>\n",
              "      <td>2.000000</td>\n",
              "      <td>5.340000e+02</td>\n",
              "      <td>1.780000e+02</td>\n",
              "      <td>2.650177e+03</td>\n",
              "      <td>254.000000</td>\n",
              "      <td>29.000000</td>\n",
              "      <td>5.770032e+05</td>\n",
              "      <td>2.112951e+03</td>\n",
              "      <td>...</td>\n",
              "      <td>1.000000</td>\n",
              "      <td>3.000000</td>\n",
              "      <td>0.000000</td>\n",
              "      <td>0.000000</td>\n",
              "      <td>0.000000</td>\n",
              "      <td>3.000000</td>\n",
              "      <td>5.000000</td>\n",
              "      <td>0.000000</td>\n",
              "      <td>1.000000</td>\n",
              "      <td>1.000000</td>\n",
              "    </tr>\n",
              "    <tr>\n",
              "      <th>75%</th>\n",
              "      <td>0.719360</td>\n",
              "      <td>12.000000</td>\n",
              "      <td>10.000000</td>\n",
              "      <td>1.280000e+03</td>\n",
              "      <td>9.560000e+02</td>\n",
              "      <td>1.111111e+05</td>\n",
              "      <td>254.000000</td>\n",
              "      <td>252.000000</td>\n",
              "      <td>6.514286e+07</td>\n",
              "      <td>1.585808e+04</td>\n",
              "      <td>...</td>\n",
              "      <td>3.000000</td>\n",
              "      <td>6.000000</td>\n",
              "      <td>0.000000</td>\n",
              "      <td>0.000000</td>\n",
              "      <td>0.000000</td>\n",
              "      <td>7.000000</td>\n",
              "      <td>11.000000</td>\n",
              "      <td>0.000000</td>\n",
              "      <td>2.000000</td>\n",
              "      <td>1.000000</td>\n",
              "    </tr>\n",
              "    <tr>\n",
              "      <th>max</th>\n",
              "      <td>59.999989</td>\n",
              "      <td>10646.000000</td>\n",
              "      <td>11018.000000</td>\n",
              "      <td>1.435577e+07</td>\n",
              "      <td>1.465753e+07</td>\n",
              "      <td>1.000000e+06</td>\n",
              "      <td>255.000000</td>\n",
              "      <td>253.000000</td>\n",
              "      <td>5.268000e+09</td>\n",
              "      <td>2.082111e+07</td>\n",
              "      <td>...</td>\n",
              "      <td>38.000000</td>\n",
              "      <td>63.000000</td>\n",
              "      <td>2.000000</td>\n",
              "      <td>2.000000</td>\n",
              "      <td>16.000000</td>\n",
              "      <td>60.000000</td>\n",
              "      <td>62.000000</td>\n",
              "      <td>1.000000</td>\n",
              "      <td>9.000000</td>\n",
              "      <td>1.000000</td>\n",
              "    </tr>\n",
              "  </tbody>\n",
              "</table>\n",
              "<p>8 rows × 41 columns</p>\n",
              "</div>\n",
              "      <button class=\"colab-df-convert\" onclick=\"convertToInteractive('df-46bbcd11-943d-4fe7-bf43-102ac096481f')\"\n",
              "              title=\"Convert this dataframe to an interactive table.\"\n",
              "              style=\"display:none;\">\n",
              "        \n",
              "  <svg xmlns=\"http://www.w3.org/2000/svg\" height=\"24px\"viewBox=\"0 0 24 24\"\n",
              "       width=\"24px\">\n",
              "    <path d=\"M0 0h24v24H0V0z\" fill=\"none\"/>\n",
              "    <path d=\"M18.56 5.44l.94 2.06.94-2.06 2.06-.94-2.06-.94-.94-2.06-.94 2.06-2.06.94zm-11 1L8.5 8.5l.94-2.06 2.06-.94-2.06-.94L8.5 2.5l-.94 2.06-2.06.94zm10 10l.94 2.06.94-2.06 2.06-.94-2.06-.94-.94-2.06-.94 2.06-2.06.94z\"/><path d=\"M17.41 7.96l-1.37-1.37c-.4-.4-.92-.59-1.43-.59-.52 0-1.04.2-1.43.59L10.3 9.45l-7.72 7.72c-.78.78-.78 2.05 0 2.83L4 21.41c.39.39.9.59 1.41.59.51 0 1.02-.2 1.41-.59l7.78-7.78 2.81-2.81c.8-.78.8-2.07 0-2.86zM5.41 20L4 18.59l7.72-7.72 1.47 1.35L5.41 20z\"/>\n",
              "  </svg>\n",
              "      </button>\n",
              "      \n",
              "  <style>\n",
              "    .colab-df-container {\n",
              "      display:flex;\n",
              "      flex-wrap:wrap;\n",
              "      gap: 12px;\n",
              "    }\n",
              "\n",
              "    .colab-df-convert {\n",
              "      background-color: #E8F0FE;\n",
              "      border: none;\n",
              "      border-radius: 50%;\n",
              "      cursor: pointer;\n",
              "      display: none;\n",
              "      fill: #1967D2;\n",
              "      height: 32px;\n",
              "      padding: 0 0 0 0;\n",
              "      width: 32px;\n",
              "    }\n",
              "\n",
              "    .colab-df-convert:hover {\n",
              "      background-color: #E2EBFA;\n",
              "      box-shadow: 0px 1px 2px rgba(60, 64, 67, 0.3), 0px 1px 3px 1px rgba(60, 64, 67, 0.15);\n",
              "      fill: #174EA6;\n",
              "    }\n",
              "\n",
              "    [theme=dark] .colab-df-convert {\n",
              "      background-color: #3B4455;\n",
              "      fill: #D2E3FC;\n",
              "    }\n",
              "\n",
              "    [theme=dark] .colab-df-convert:hover {\n",
              "      background-color: #434B5C;\n",
              "      box-shadow: 0px 1px 3px 1px rgba(0, 0, 0, 0.15);\n",
              "      filter: drop-shadow(0px 1px 2px rgba(0, 0, 0, 0.3));\n",
              "      fill: #FFFFFF;\n",
              "    }\n",
              "  </style>\n",
              "\n",
              "      <script>\n",
              "        const buttonEl =\n",
              "          document.querySelector('#df-46bbcd11-943d-4fe7-bf43-102ac096481f button.colab-df-convert');\n",
              "        buttonEl.style.display =\n",
              "          google.colab.kernel.accessAllowed ? 'block' : 'none';\n",
              "\n",
              "        async function convertToInteractive(key) {\n",
              "          const element = document.querySelector('#df-46bbcd11-943d-4fe7-bf43-102ac096481f');\n",
              "          const dataTable =\n",
              "            await google.colab.kernel.invokeFunction('convertToInteractive',\n",
              "                                                     [key], {});\n",
              "          if (!dataTable) return;\n",
              "\n",
              "          const docLinkHtml = 'Like what you see? Visit the ' +\n",
              "            '<a target=\"_blank\" href=https://colab.research.google.com/notebooks/data_table.ipynb>data table notebook</a>'\n",
              "            + ' to learn more about interactive tables.';\n",
              "          element.innerHTML = '';\n",
              "          dataTable['output_type'] = 'display_data';\n",
              "          await google.colab.output.renderOutput(dataTable, element);\n",
              "          const docLink = document.createElement('div');\n",
              "          docLink.innerHTML = docLinkHtml;\n",
              "          element.appendChild(docLink);\n",
              "        }\n",
              "      </script>\n",
              "    </div>\n",
              "  </div>\n",
              "  "
            ]
          },
          "metadata": {},
          "execution_count": 511
        }
      ]
    },
    {
      "cell_type": "code",
      "source": [
        "# Podamos los valores extremos para reducir la asimetría\n",
        "#las caracteristicas con un valor max más de 10 veces el valor de la mediana\n",
        "#se podan hasta el percentil 95\n",
        "\n",
        "DEBUG =0\n",
        "\n",
        "for cat in df_num.columns:\n",
        "    if DEBUG == 1:\n",
        "        print(cat)\n",
        "        print('max = '+str(df_num[cat].max()))\n",
        "        print('75th = '+str(df_num[cat].quantile(0.95)))\n",
        "        print('median = '+str(df_num[cat].median()))\n",
        "        print(df_num[cat].max()>10*df_num[cat].median())\n",
        "        print('----------------------------------------------------')\n",
        "    if df_num[cat].max()>10*df_num[cat].median() and df_num[cat].max()>10 :\n",
        "        df[cat] = np.where(df[cat]<df[cat].quantile(0.95), df[cat], df[cat].quantile(0.95))\n",
        "\n",
        "# mostar valores numericos y comprobamos\n",
        "df_num = df.select_dtypes(include=[np.number])\n",
        "df_num.describe(include='all')"
      ],
      "metadata": {
        "colab": {
          "base_uri": "https://localhost:8080/",
          "height": 393
        },
        "id": "NAK2gr3P6n_a",
        "outputId": "b42049dd-c4ce-4250-a72e-8b18d0da30ea"
      },
      "execution_count": null,
      "outputs": [
        {
          "output_type": "execute_result",
          "data": {
            "text/plain": [
              "                dur        spkts         dpkts        sbytes        dbytes  \\\n",
              "count  82332.000000  82332.00000  82332.000000  82332.000000  82332.000000   \n",
              "mean       0.445016     11.84186      9.178424   1580.566135   2866.918367   \n",
              "std        0.672222     15.66461     14.504212   2948.850472   7525.606738   \n",
              "min        0.000000      1.00000      0.000000     24.000000      0.000000   \n",
              "25%        0.000008      2.00000      0.000000    114.000000      0.000000   \n",
              "50%        0.014138      6.00000      2.000000    534.000000    178.000000   \n",
              "75%        0.719360     12.00000     10.000000   1280.000000    956.000000   \n",
              "max        2.403792     60.00000     54.000000  12472.000000  30622.000000   \n",
              "\n",
              "                rate          sttl          dttl         sload         dload  \\\n",
              "count   82332.000000  82332.000000  82332.000000  8.233200e+04  8.233200e+04   \n",
              "mean    71576.702810    180.967667     95.713003  4.649418e+07  3.105380e+05   \n",
              "std    102631.946851    101.513358    116.667722  7.417784e+07  8.918691e+05   \n",
              "min         0.000000      0.000000      0.000000  0.000000e+00  0.000000e+00   \n",
              "25%        28.606114     62.000000      0.000000  1.120247e+04  0.000000e+00   \n",
              "50%      2650.176667    254.000000     29.000000  5.770032e+05  2.112951e+03   \n",
              "75%    111111.107200    254.000000    252.000000  6.514286e+07  1.585808e+04   \n",
              "max    333333.321500    255.000000    253.000000  2.666667e+08  3.741446e+06   \n",
              "\n",
              "       ...  ct_dst_sport_ltm  ct_dst_src_ltm  is_ftp_login    ct_ftp_cmd  \\\n",
              "count  ...      82332.000000    82332.000000  82332.000000  82332.000000   \n",
              "mean   ...          3.388901        7.160679      0.008284      0.008381   \n",
              "std    ...          5.029129       10.481621      0.091171      0.092485   \n",
              "min    ...          1.000000        1.000000      0.000000      0.000000   \n",
              "25%    ...          1.000000        1.000000      0.000000      0.000000   \n",
              "50%    ...          1.000000        3.000000      0.000000      0.000000   \n",
              "75%    ...          3.000000        6.000000      0.000000      0.000000   \n",
              "max    ...         18.000000       37.000000      2.000000      2.000000   \n",
              "\n",
              "       ct_flw_http_mthd    ct_src_ltm    ct_srv_src  is_sm_ips_ports  \\\n",
              "count      82332.000000  82332.000000  82332.000000     82332.000000   \n",
              "mean           0.092066      5.974809      8.832532         0.011126   \n",
              "std            0.289121      6.867156     10.124902         0.104891   \n",
              "min            0.000000      1.000000      1.000000         0.000000   \n",
              "25%            0.000000      1.000000      2.000000         0.000000   \n",
              "50%            0.000000      3.000000      5.000000         0.000000   \n",
              "75%            0.000000      7.000000     11.000000         0.000000   \n",
              "max            1.000000     25.000000     36.000000         1.000000   \n",
              "\n",
              "         attack_cat         label  \n",
              "count  82332.000000  82332.000000  \n",
              "mean       1.271923      0.550600  \n",
              "std        1.628266      0.497436  \n",
              "min        0.000000      0.000000  \n",
              "25%        0.000000      0.000000  \n",
              "50%        1.000000      1.000000  \n",
              "75%        2.000000      1.000000  \n",
              "max        9.000000      1.000000  \n",
              "\n",
              "[8 rows x 41 columns]"
            ],
            "text/html": [
              "\n",
              "  <div id=\"df-8656c2da-b751-4550-941c-18143d8bf934\">\n",
              "    <div class=\"colab-df-container\">\n",
              "      <div>\n",
              "<style scoped>\n",
              "    .dataframe tbody tr th:only-of-type {\n",
              "        vertical-align: middle;\n",
              "    }\n",
              "\n",
              "    .dataframe tbody tr th {\n",
              "        vertical-align: top;\n",
              "    }\n",
              "\n",
              "    .dataframe thead th {\n",
              "        text-align: right;\n",
              "    }\n",
              "</style>\n",
              "<table border=\"1\" class=\"dataframe\">\n",
              "  <thead>\n",
              "    <tr style=\"text-align: right;\">\n",
              "      <th></th>\n",
              "      <th>dur</th>\n",
              "      <th>spkts</th>\n",
              "      <th>dpkts</th>\n",
              "      <th>sbytes</th>\n",
              "      <th>dbytes</th>\n",
              "      <th>rate</th>\n",
              "      <th>sttl</th>\n",
              "      <th>dttl</th>\n",
              "      <th>sload</th>\n",
              "      <th>dload</th>\n",
              "      <th>...</th>\n",
              "      <th>ct_dst_sport_ltm</th>\n",
              "      <th>ct_dst_src_ltm</th>\n",
              "      <th>is_ftp_login</th>\n",
              "      <th>ct_ftp_cmd</th>\n",
              "      <th>ct_flw_http_mthd</th>\n",
              "      <th>ct_src_ltm</th>\n",
              "      <th>ct_srv_src</th>\n",
              "      <th>is_sm_ips_ports</th>\n",
              "      <th>attack_cat</th>\n",
              "      <th>label</th>\n",
              "    </tr>\n",
              "  </thead>\n",
              "  <tbody>\n",
              "    <tr>\n",
              "      <th>count</th>\n",
              "      <td>82332.000000</td>\n",
              "      <td>82332.00000</td>\n",
              "      <td>82332.000000</td>\n",
              "      <td>82332.000000</td>\n",
              "      <td>82332.000000</td>\n",
              "      <td>82332.000000</td>\n",
              "      <td>82332.000000</td>\n",
              "      <td>82332.000000</td>\n",
              "      <td>8.233200e+04</td>\n",
              "      <td>8.233200e+04</td>\n",
              "      <td>...</td>\n",
              "      <td>82332.000000</td>\n",
              "      <td>82332.000000</td>\n",
              "      <td>82332.000000</td>\n",
              "      <td>82332.000000</td>\n",
              "      <td>82332.000000</td>\n",
              "      <td>82332.000000</td>\n",
              "      <td>82332.000000</td>\n",
              "      <td>82332.000000</td>\n",
              "      <td>82332.000000</td>\n",
              "      <td>82332.000000</td>\n",
              "    </tr>\n",
              "    <tr>\n",
              "      <th>mean</th>\n",
              "      <td>0.445016</td>\n",
              "      <td>11.84186</td>\n",
              "      <td>9.178424</td>\n",
              "      <td>1580.566135</td>\n",
              "      <td>2866.918367</td>\n",
              "      <td>71576.702810</td>\n",
              "      <td>180.967667</td>\n",
              "      <td>95.713003</td>\n",
              "      <td>4.649418e+07</td>\n",
              "      <td>3.105380e+05</td>\n",
              "      <td>...</td>\n",
              "      <td>3.388901</td>\n",
              "      <td>7.160679</td>\n",
              "      <td>0.008284</td>\n",
              "      <td>0.008381</td>\n",
              "      <td>0.092066</td>\n",
              "      <td>5.974809</td>\n",
              "      <td>8.832532</td>\n",
              "      <td>0.011126</td>\n",
              "      <td>1.271923</td>\n",
              "      <td>0.550600</td>\n",
              "    </tr>\n",
              "    <tr>\n",
              "      <th>std</th>\n",
              "      <td>0.672222</td>\n",
              "      <td>15.66461</td>\n",
              "      <td>14.504212</td>\n",
              "      <td>2948.850472</td>\n",
              "      <td>7525.606738</td>\n",
              "      <td>102631.946851</td>\n",
              "      <td>101.513358</td>\n",
              "      <td>116.667722</td>\n",
              "      <td>7.417784e+07</td>\n",
              "      <td>8.918691e+05</td>\n",
              "      <td>...</td>\n",
              "      <td>5.029129</td>\n",
              "      <td>10.481621</td>\n",
              "      <td>0.091171</td>\n",
              "      <td>0.092485</td>\n",
              "      <td>0.289121</td>\n",
              "      <td>6.867156</td>\n",
              "      <td>10.124902</td>\n",
              "      <td>0.104891</td>\n",
              "      <td>1.628266</td>\n",
              "      <td>0.497436</td>\n",
              "    </tr>\n",
              "    <tr>\n",
              "      <th>min</th>\n",
              "      <td>0.000000</td>\n",
              "      <td>1.00000</td>\n",
              "      <td>0.000000</td>\n",
              "      <td>24.000000</td>\n",
              "      <td>0.000000</td>\n",
              "      <td>0.000000</td>\n",
              "      <td>0.000000</td>\n",
              "      <td>0.000000</td>\n",
              "      <td>0.000000e+00</td>\n",
              "      <td>0.000000e+00</td>\n",
              "      <td>...</td>\n",
              "      <td>1.000000</td>\n",
              "      <td>1.000000</td>\n",
              "      <td>0.000000</td>\n",
              "      <td>0.000000</td>\n",
              "      <td>0.000000</td>\n",
              "      <td>1.000000</td>\n",
              "      <td>1.000000</td>\n",
              "      <td>0.000000</td>\n",
              "      <td>0.000000</td>\n",
              "      <td>0.000000</td>\n",
              "    </tr>\n",
              "    <tr>\n",
              "      <th>25%</th>\n",
              "      <td>0.000008</td>\n",
              "      <td>2.00000</td>\n",
              "      <td>0.000000</td>\n",
              "      <td>114.000000</td>\n",
              "      <td>0.000000</td>\n",
              "      <td>28.606114</td>\n",
              "      <td>62.000000</td>\n",
              "      <td>0.000000</td>\n",
              "      <td>1.120247e+04</td>\n",
              "      <td>0.000000e+00</td>\n",
              "      <td>...</td>\n",
              "      <td>1.000000</td>\n",
              "      <td>1.000000</td>\n",
              "      <td>0.000000</td>\n",
              "      <td>0.000000</td>\n",
              "      <td>0.000000</td>\n",
              "      <td>1.000000</td>\n",
              "      <td>2.000000</td>\n",
              "      <td>0.000000</td>\n",
              "      <td>0.000000</td>\n",
              "      <td>0.000000</td>\n",
              "    </tr>\n",
              "    <tr>\n",
              "      <th>50%</th>\n",
              "      <td>0.014138</td>\n",
              "      <td>6.00000</td>\n",
              "      <td>2.000000</td>\n",
              "      <td>534.000000</td>\n",
              "      <td>178.000000</td>\n",
              "      <td>2650.176667</td>\n",
              "      <td>254.000000</td>\n",
              "      <td>29.000000</td>\n",
              "      <td>5.770032e+05</td>\n",
              "      <td>2.112951e+03</td>\n",
              "      <td>...</td>\n",
              "      <td>1.000000</td>\n",
              "      <td>3.000000</td>\n",
              "      <td>0.000000</td>\n",
              "      <td>0.000000</td>\n",
              "      <td>0.000000</td>\n",
              "      <td>3.000000</td>\n",
              "      <td>5.000000</td>\n",
              "      <td>0.000000</td>\n",
              "      <td>1.000000</td>\n",
              "      <td>1.000000</td>\n",
              "    </tr>\n",
              "    <tr>\n",
              "      <th>75%</th>\n",
              "      <td>0.719360</td>\n",
              "      <td>12.00000</td>\n",
              "      <td>10.000000</td>\n",
              "      <td>1280.000000</td>\n",
              "      <td>956.000000</td>\n",
              "      <td>111111.107200</td>\n",
              "      <td>254.000000</td>\n",
              "      <td>252.000000</td>\n",
              "      <td>6.514286e+07</td>\n",
              "      <td>1.585808e+04</td>\n",
              "      <td>...</td>\n",
              "      <td>3.000000</td>\n",
              "      <td>6.000000</td>\n",
              "      <td>0.000000</td>\n",
              "      <td>0.000000</td>\n",
              "      <td>0.000000</td>\n",
              "      <td>7.000000</td>\n",
              "      <td>11.000000</td>\n",
              "      <td>0.000000</td>\n",
              "      <td>2.000000</td>\n",
              "      <td>1.000000</td>\n",
              "    </tr>\n",
              "    <tr>\n",
              "      <th>max</th>\n",
              "      <td>2.403792</td>\n",
              "      <td>60.00000</td>\n",
              "      <td>54.000000</td>\n",
              "      <td>12472.000000</td>\n",
              "      <td>30622.000000</td>\n",
              "      <td>333333.321500</td>\n",
              "      <td>255.000000</td>\n",
              "      <td>253.000000</td>\n",
              "      <td>2.666667e+08</td>\n",
              "      <td>3.741446e+06</td>\n",
              "      <td>...</td>\n",
              "      <td>18.000000</td>\n",
              "      <td>37.000000</td>\n",
              "      <td>2.000000</td>\n",
              "      <td>2.000000</td>\n",
              "      <td>1.000000</td>\n",
              "      <td>25.000000</td>\n",
              "      <td>36.000000</td>\n",
              "      <td>1.000000</td>\n",
              "      <td>9.000000</td>\n",
              "      <td>1.000000</td>\n",
              "    </tr>\n",
              "  </tbody>\n",
              "</table>\n",
              "<p>8 rows × 41 columns</p>\n",
              "</div>\n",
              "      <button class=\"colab-df-convert\" onclick=\"convertToInteractive('df-8656c2da-b751-4550-941c-18143d8bf934')\"\n",
              "              title=\"Convert this dataframe to an interactive table.\"\n",
              "              style=\"display:none;\">\n",
              "        \n",
              "  <svg xmlns=\"http://www.w3.org/2000/svg\" height=\"24px\"viewBox=\"0 0 24 24\"\n",
              "       width=\"24px\">\n",
              "    <path d=\"M0 0h24v24H0V0z\" fill=\"none\"/>\n",
              "    <path d=\"M18.56 5.44l.94 2.06.94-2.06 2.06-.94-2.06-.94-.94-2.06-.94 2.06-2.06.94zm-11 1L8.5 8.5l.94-2.06 2.06-.94-2.06-.94L8.5 2.5l-.94 2.06-2.06.94zm10 10l.94 2.06.94-2.06 2.06-.94-2.06-.94-.94-2.06-.94 2.06-2.06.94z\"/><path d=\"M17.41 7.96l-1.37-1.37c-.4-.4-.92-.59-1.43-.59-.52 0-1.04.2-1.43.59L10.3 9.45l-7.72 7.72c-.78.78-.78 2.05 0 2.83L4 21.41c.39.39.9.59 1.41.59.51 0 1.02-.2 1.41-.59l7.78-7.78 2.81-2.81c.8-.78.8-2.07 0-2.86zM5.41 20L4 18.59l7.72-7.72 1.47 1.35L5.41 20z\"/>\n",
              "  </svg>\n",
              "      </button>\n",
              "      \n",
              "  <style>\n",
              "    .colab-df-container {\n",
              "      display:flex;\n",
              "      flex-wrap:wrap;\n",
              "      gap: 12px;\n",
              "    }\n",
              "\n",
              "    .colab-df-convert {\n",
              "      background-color: #E8F0FE;\n",
              "      border: none;\n",
              "      border-radius: 50%;\n",
              "      cursor: pointer;\n",
              "      display: none;\n",
              "      fill: #1967D2;\n",
              "      height: 32px;\n",
              "      padding: 0 0 0 0;\n",
              "      width: 32px;\n",
              "    }\n",
              "\n",
              "    .colab-df-convert:hover {\n",
              "      background-color: #E2EBFA;\n",
              "      box-shadow: 0px 1px 2px rgba(60, 64, 67, 0.3), 0px 1px 3px 1px rgba(60, 64, 67, 0.15);\n",
              "      fill: #174EA6;\n",
              "    }\n",
              "\n",
              "    [theme=dark] .colab-df-convert {\n",
              "      background-color: #3B4455;\n",
              "      fill: #D2E3FC;\n",
              "    }\n",
              "\n",
              "    [theme=dark] .colab-df-convert:hover {\n",
              "      background-color: #434B5C;\n",
              "      box-shadow: 0px 1px 3px 1px rgba(0, 0, 0, 0.15);\n",
              "      filter: drop-shadow(0px 1px 2px rgba(0, 0, 0, 0.3));\n",
              "      fill: #FFFFFF;\n",
              "    }\n",
              "  </style>\n",
              "\n",
              "      <script>\n",
              "        const buttonEl =\n",
              "          document.querySelector('#df-8656c2da-b751-4550-941c-18143d8bf934 button.colab-df-convert');\n",
              "        buttonEl.style.display =\n",
              "          google.colab.kernel.accessAllowed ? 'block' : 'none';\n",
              "\n",
              "        async function convertToInteractive(key) {\n",
              "          const element = document.querySelector('#df-8656c2da-b751-4550-941c-18143d8bf934');\n",
              "          const dataTable =\n",
              "            await google.colab.kernel.invokeFunction('convertToInteractive',\n",
              "                                                     [key], {});\n",
              "          if (!dataTable) return;\n",
              "\n",
              "          const docLinkHtml = 'Like what you see? Visit the ' +\n",
              "            '<a target=\"_blank\" href=https://colab.research.google.com/notebooks/data_table.ipynb>data table notebook</a>'\n",
              "            + ' to learn more about interactive tables.';\n",
              "          element.innerHTML = '';\n",
              "          dataTable['output_type'] = 'display_data';\n",
              "          await google.colab.output.renderOutput(dataTable, element);\n",
              "          const docLink = document.createElement('div');\n",
              "          docLink.innerHTML = docLinkHtml;\n",
              "          element.appendChild(docLink);\n",
              "        }\n",
              "      </script>\n",
              "    </div>\n",
              "  </div>\n",
              "  "
            ]
          },
          "metadata": {},
          "execution_count": 512
        }
      ]
    },
    {
      "cell_type": "code",
      "source": [
        "#Aplicamos función logarimica ya que la mayoria de valores estan sesgados a la derecha\n",
        "df_num = df.select_dtypes(include=[np.number])\n",
        "df_before = df_num.copy()\n",
        "DEBUG = 0\n",
        "for cat in df_num.columns:\n",
        "    if DEBUG == 1:\n",
        "        print(cat)\n",
        "        print('nunique = '+str(df_num[cat].nunique()))\n",
        "        print(df_num[cat].nunique()>50)\n",
        "        print('----------------------------------------------------')\n",
        "    if df_num[cat].nunique()>50:\n",
        "        if df_num[cat].min()==0:\n",
        "            df[cat] = np.log(df[cat]+1)\n",
        "        else:\n",
        "            df[cat] = np.log(df[cat])\n",
        "\n",
        "df"
      ],
      "metadata": {
        "colab": {
          "base_uri": "https://localhost:8080/",
          "height": 487
        },
        "id": "DJ-HkZ2_6ufk",
        "outputId": "c5adb4c6-498f-4613-a436-ddd47b186924"
      },
      "execution_count": null,
      "outputs": [
        {
          "output_type": "execute_result",
          "data": {
            "text/plain": [
              "            dur proto service state     spkts     dpkts    sbytes    dbytes  \\\n",
              "0      0.000011   udp    otro   INT  0.693147  0.000000  6.206576  0.000000   \n",
              "1      0.000008   udp    otro   INT  0.693147  0.000000  7.474205  0.000000   \n",
              "2      0.000005   udp    otro   INT  0.693147  0.000000  6.973543  0.000000   \n",
              "3      0.000006   udp    otro   INT  0.693147  0.000000  6.802395  0.000000   \n",
              "4      0.000010   udp    otro   INT  0.693147  0.000000  7.661998  0.000000   \n",
              "...         ...   ...     ...   ...       ...       ...       ...       ...   \n",
              "82327  0.000005   udp    otro   INT  0.693147  0.000000  4.644391  0.000000   \n",
              "82328  0.744838   tcp    otro   FIN  2.995732  2.197225  9.431241  5.872118   \n",
              "82329  0.000000   arp    otro   INT  0.000000  0.000000  3.828641  0.000000   \n",
              "82330  0.000000   arp    otro   INT  0.000000  0.000000  3.828641  0.000000   \n",
              "82331  0.000009   udp    otro   INT  0.693147  0.000000  4.644391  0.000000   \n",
              "\n",
              "            rate  sttl  ...  ct_dst_sport_ltm  ct_dst_src_ltm  is_ftp_login  \\\n",
              "0      11.417626   254  ...               1.0             2.0             0   \n",
              "1      11.736077   254  ...               1.0             2.0             0   \n",
              "2      12.206078   254  ...               1.0             3.0             0   \n",
              "3      12.023757   254  ...               1.0             3.0             0   \n",
              "4      11.512935   254  ...               1.0             3.0             0   \n",
              "...          ...   ...  ...               ...             ...           ...   \n",
              "82327  12.206078   254  ...               1.0             2.0             0   \n",
              "82328   3.235145   254  ...               1.0             1.0             0   \n",
              "82329   0.000000     0  ...               1.0             1.0             0   \n",
              "82330   0.000000     0  ...               1.0             1.0             0   \n",
              "82331  11.618295   254  ...               1.0             1.0             0   \n",
              "\n",
              "       ct_ftp_cmd  ct_flw_http_mthd  ct_src_ltm  ct_srv_src  is_sm_ips_ports  \\\n",
              "0               0               0.0         1.0         2.0                0   \n",
              "1               0               0.0         1.0         2.0                0   \n",
              "2               0               0.0         1.0         3.0                0   \n",
              "3               0               0.0         2.0         3.0                0   \n",
              "4               0               0.0         2.0         3.0                0   \n",
              "...           ...               ...         ...         ...              ...   \n",
              "82327           0               0.0         2.0         1.0                0   \n",
              "82328           0               0.0         3.0         2.0                0   \n",
              "82329           0               0.0         1.0         1.0                1   \n",
              "82330           0               0.0         1.0         1.0                1   \n",
              "82331           0               0.0         1.0         1.0                0   \n",
              "\n",
              "       attack_cat  label  \n",
              "0               0      0  \n",
              "1               0      0  \n",
              "2               0      0  \n",
              "3               0      0  \n",
              "4               0      0  \n",
              "...           ...    ...  \n",
              "82327           0      0  \n",
              "82328           0      0  \n",
              "82329           0      0  \n",
              "82330           0      0  \n",
              "82331           0      0  \n",
              "\n",
              "[82332 rows x 44 columns]"
            ],
            "text/html": [
              "\n",
              "  <div id=\"df-91a9bc37-6abc-409b-9777-c9b22da9d440\">\n",
              "    <div class=\"colab-df-container\">\n",
              "      <div>\n",
              "<style scoped>\n",
              "    .dataframe tbody tr th:only-of-type {\n",
              "        vertical-align: middle;\n",
              "    }\n",
              "\n",
              "    .dataframe tbody tr th {\n",
              "        vertical-align: top;\n",
              "    }\n",
              "\n",
              "    .dataframe thead th {\n",
              "        text-align: right;\n",
              "    }\n",
              "</style>\n",
              "<table border=\"1\" class=\"dataframe\">\n",
              "  <thead>\n",
              "    <tr style=\"text-align: right;\">\n",
              "      <th></th>\n",
              "      <th>dur</th>\n",
              "      <th>proto</th>\n",
              "      <th>service</th>\n",
              "      <th>state</th>\n",
              "      <th>spkts</th>\n",
              "      <th>dpkts</th>\n",
              "      <th>sbytes</th>\n",
              "      <th>dbytes</th>\n",
              "      <th>rate</th>\n",
              "      <th>sttl</th>\n",
              "      <th>...</th>\n",
              "      <th>ct_dst_sport_ltm</th>\n",
              "      <th>ct_dst_src_ltm</th>\n",
              "      <th>is_ftp_login</th>\n",
              "      <th>ct_ftp_cmd</th>\n",
              "      <th>ct_flw_http_mthd</th>\n",
              "      <th>ct_src_ltm</th>\n",
              "      <th>ct_srv_src</th>\n",
              "      <th>is_sm_ips_ports</th>\n",
              "      <th>attack_cat</th>\n",
              "      <th>label</th>\n",
              "    </tr>\n",
              "  </thead>\n",
              "  <tbody>\n",
              "    <tr>\n",
              "      <th>0</th>\n",
              "      <td>0.000011</td>\n",
              "      <td>udp</td>\n",
              "      <td>otro</td>\n",
              "      <td>INT</td>\n",
              "      <td>0.693147</td>\n",
              "      <td>0.000000</td>\n",
              "      <td>6.206576</td>\n",
              "      <td>0.000000</td>\n",
              "      <td>11.417626</td>\n",
              "      <td>254</td>\n",
              "      <td>...</td>\n",
              "      <td>1.0</td>\n",
              "      <td>2.0</td>\n",
              "      <td>0</td>\n",
              "      <td>0</td>\n",
              "      <td>0.0</td>\n",
              "      <td>1.0</td>\n",
              "      <td>2.0</td>\n",
              "      <td>0</td>\n",
              "      <td>0</td>\n",
              "      <td>0</td>\n",
              "    </tr>\n",
              "    <tr>\n",
              "      <th>1</th>\n",
              "      <td>0.000008</td>\n",
              "      <td>udp</td>\n",
              "      <td>otro</td>\n",
              "      <td>INT</td>\n",
              "      <td>0.693147</td>\n",
              "      <td>0.000000</td>\n",
              "      <td>7.474205</td>\n",
              "      <td>0.000000</td>\n",
              "      <td>11.736077</td>\n",
              "      <td>254</td>\n",
              "      <td>...</td>\n",
              "      <td>1.0</td>\n",
              "      <td>2.0</td>\n",
              "      <td>0</td>\n",
              "      <td>0</td>\n",
              "      <td>0.0</td>\n",
              "      <td>1.0</td>\n",
              "      <td>2.0</td>\n",
              "      <td>0</td>\n",
              "      <td>0</td>\n",
              "      <td>0</td>\n",
              "    </tr>\n",
              "    <tr>\n",
              "      <th>2</th>\n",
              "      <td>0.000005</td>\n",
              "      <td>udp</td>\n",
              "      <td>otro</td>\n",
              "      <td>INT</td>\n",
              "      <td>0.693147</td>\n",
              "      <td>0.000000</td>\n",
              "      <td>6.973543</td>\n",
              "      <td>0.000000</td>\n",
              "      <td>12.206078</td>\n",
              "      <td>254</td>\n",
              "      <td>...</td>\n",
              "      <td>1.0</td>\n",
              "      <td>3.0</td>\n",
              "      <td>0</td>\n",
              "      <td>0</td>\n",
              "      <td>0.0</td>\n",
              "      <td>1.0</td>\n",
              "      <td>3.0</td>\n",
              "      <td>0</td>\n",
              "      <td>0</td>\n",
              "      <td>0</td>\n",
              "    </tr>\n",
              "    <tr>\n",
              "      <th>3</th>\n",
              "      <td>0.000006</td>\n",
              "      <td>udp</td>\n",
              "      <td>otro</td>\n",
              "      <td>INT</td>\n",
              "      <td>0.693147</td>\n",
              "      <td>0.000000</td>\n",
              "      <td>6.802395</td>\n",
              "      <td>0.000000</td>\n",
              "      <td>12.023757</td>\n",
              "      <td>254</td>\n",
              "      <td>...</td>\n",
              "      <td>1.0</td>\n",
              "      <td>3.0</td>\n",
              "      <td>0</td>\n",
              "      <td>0</td>\n",
              "      <td>0.0</td>\n",
              "      <td>2.0</td>\n",
              "      <td>3.0</td>\n",
              "      <td>0</td>\n",
              "      <td>0</td>\n",
              "      <td>0</td>\n",
              "    </tr>\n",
              "    <tr>\n",
              "      <th>4</th>\n",
              "      <td>0.000010</td>\n",
              "      <td>udp</td>\n",
              "      <td>otro</td>\n",
              "      <td>INT</td>\n",
              "      <td>0.693147</td>\n",
              "      <td>0.000000</td>\n",
              "      <td>7.661998</td>\n",
              "      <td>0.000000</td>\n",
              "      <td>11.512935</td>\n",
              "      <td>254</td>\n",
              "      <td>...</td>\n",
              "      <td>1.0</td>\n",
              "      <td>3.0</td>\n",
              "      <td>0</td>\n",
              "      <td>0</td>\n",
              "      <td>0.0</td>\n",
              "      <td>2.0</td>\n",
              "      <td>3.0</td>\n",
              "      <td>0</td>\n",
              "      <td>0</td>\n",
              "      <td>0</td>\n",
              "    </tr>\n",
              "    <tr>\n",
              "      <th>...</th>\n",
              "      <td>...</td>\n",
              "      <td>...</td>\n",
              "      <td>...</td>\n",
              "      <td>...</td>\n",
              "      <td>...</td>\n",
              "      <td>...</td>\n",
              "      <td>...</td>\n",
              "      <td>...</td>\n",
              "      <td>...</td>\n",
              "      <td>...</td>\n",
              "      <td>...</td>\n",
              "      <td>...</td>\n",
              "      <td>...</td>\n",
              "      <td>...</td>\n",
              "      <td>...</td>\n",
              "      <td>...</td>\n",
              "      <td>...</td>\n",
              "      <td>...</td>\n",
              "      <td>...</td>\n",
              "      <td>...</td>\n",
              "      <td>...</td>\n",
              "    </tr>\n",
              "    <tr>\n",
              "      <th>82327</th>\n",
              "      <td>0.000005</td>\n",
              "      <td>udp</td>\n",
              "      <td>otro</td>\n",
              "      <td>INT</td>\n",
              "      <td>0.693147</td>\n",
              "      <td>0.000000</td>\n",
              "      <td>4.644391</td>\n",
              "      <td>0.000000</td>\n",
              "      <td>12.206078</td>\n",
              "      <td>254</td>\n",
              "      <td>...</td>\n",
              "      <td>1.0</td>\n",
              "      <td>2.0</td>\n",
              "      <td>0</td>\n",
              "      <td>0</td>\n",
              "      <td>0.0</td>\n",
              "      <td>2.0</td>\n",
              "      <td>1.0</td>\n",
              "      <td>0</td>\n",
              "      <td>0</td>\n",
              "      <td>0</td>\n",
              "    </tr>\n",
              "    <tr>\n",
              "      <th>82328</th>\n",
              "      <td>0.744838</td>\n",
              "      <td>tcp</td>\n",
              "      <td>otro</td>\n",
              "      <td>FIN</td>\n",
              "      <td>2.995732</td>\n",
              "      <td>2.197225</td>\n",
              "      <td>9.431241</td>\n",
              "      <td>5.872118</td>\n",
              "      <td>3.235145</td>\n",
              "      <td>254</td>\n",
              "      <td>...</td>\n",
              "      <td>1.0</td>\n",
              "      <td>1.0</td>\n",
              "      <td>0</td>\n",
              "      <td>0</td>\n",
              "      <td>0.0</td>\n",
              "      <td>3.0</td>\n",
              "      <td>2.0</td>\n",
              "      <td>0</td>\n",
              "      <td>0</td>\n",
              "      <td>0</td>\n",
              "    </tr>\n",
              "    <tr>\n",
              "      <th>82329</th>\n",
              "      <td>0.000000</td>\n",
              "      <td>arp</td>\n",
              "      <td>otro</td>\n",
              "      <td>INT</td>\n",
              "      <td>0.000000</td>\n",
              "      <td>0.000000</td>\n",
              "      <td>3.828641</td>\n",
              "      <td>0.000000</td>\n",
              "      <td>0.000000</td>\n",
              "      <td>0</td>\n",
              "      <td>...</td>\n",
              "      <td>1.0</td>\n",
              "      <td>1.0</td>\n",
              "      <td>0</td>\n",
              "      <td>0</td>\n",
              "      <td>0.0</td>\n",
              "      <td>1.0</td>\n",
              "      <td>1.0</td>\n",
              "      <td>1</td>\n",
              "      <td>0</td>\n",
              "      <td>0</td>\n",
              "    </tr>\n",
              "    <tr>\n",
              "      <th>82330</th>\n",
              "      <td>0.000000</td>\n",
              "      <td>arp</td>\n",
              "      <td>otro</td>\n",
              "      <td>INT</td>\n",
              "      <td>0.000000</td>\n",
              "      <td>0.000000</td>\n",
              "      <td>3.828641</td>\n",
              "      <td>0.000000</td>\n",
              "      <td>0.000000</td>\n",
              "      <td>0</td>\n",
              "      <td>...</td>\n",
              "      <td>1.0</td>\n",
              "      <td>1.0</td>\n",
              "      <td>0</td>\n",
              "      <td>0</td>\n",
              "      <td>0.0</td>\n",
              "      <td>1.0</td>\n",
              "      <td>1.0</td>\n",
              "      <td>1</td>\n",
              "      <td>0</td>\n",
              "      <td>0</td>\n",
              "    </tr>\n",
              "    <tr>\n",
              "      <th>82331</th>\n",
              "      <td>0.000009</td>\n",
              "      <td>udp</td>\n",
              "      <td>otro</td>\n",
              "      <td>INT</td>\n",
              "      <td>0.693147</td>\n",
              "      <td>0.000000</td>\n",
              "      <td>4.644391</td>\n",
              "      <td>0.000000</td>\n",
              "      <td>11.618295</td>\n",
              "      <td>254</td>\n",
              "      <td>...</td>\n",
              "      <td>1.0</td>\n",
              "      <td>1.0</td>\n",
              "      <td>0</td>\n",
              "      <td>0</td>\n",
              "      <td>0.0</td>\n",
              "      <td>1.0</td>\n",
              "      <td>1.0</td>\n",
              "      <td>0</td>\n",
              "      <td>0</td>\n",
              "      <td>0</td>\n",
              "    </tr>\n",
              "  </tbody>\n",
              "</table>\n",
              "<p>82332 rows × 44 columns</p>\n",
              "</div>\n",
              "      <button class=\"colab-df-convert\" onclick=\"convertToInteractive('df-91a9bc37-6abc-409b-9777-c9b22da9d440')\"\n",
              "              title=\"Convert this dataframe to an interactive table.\"\n",
              "              style=\"display:none;\">\n",
              "        \n",
              "  <svg xmlns=\"http://www.w3.org/2000/svg\" height=\"24px\"viewBox=\"0 0 24 24\"\n",
              "       width=\"24px\">\n",
              "    <path d=\"M0 0h24v24H0V0z\" fill=\"none\"/>\n",
              "    <path d=\"M18.56 5.44l.94 2.06.94-2.06 2.06-.94-2.06-.94-.94-2.06-.94 2.06-2.06.94zm-11 1L8.5 8.5l.94-2.06 2.06-.94-2.06-.94L8.5 2.5l-.94 2.06-2.06.94zm10 10l.94 2.06.94-2.06 2.06-.94-2.06-.94-.94-2.06-.94 2.06-2.06.94z\"/><path d=\"M17.41 7.96l-1.37-1.37c-.4-.4-.92-.59-1.43-.59-.52 0-1.04.2-1.43.59L10.3 9.45l-7.72 7.72c-.78.78-.78 2.05 0 2.83L4 21.41c.39.39.9.59 1.41.59.51 0 1.02-.2 1.41-.59l7.78-7.78 2.81-2.81c.8-.78.8-2.07 0-2.86zM5.41 20L4 18.59l7.72-7.72 1.47 1.35L5.41 20z\"/>\n",
              "  </svg>\n",
              "      </button>\n",
              "      \n",
              "  <style>\n",
              "    .colab-df-container {\n",
              "      display:flex;\n",
              "      flex-wrap:wrap;\n",
              "      gap: 12px;\n",
              "    }\n",
              "\n",
              "    .colab-df-convert {\n",
              "      background-color: #E8F0FE;\n",
              "      border: none;\n",
              "      border-radius: 50%;\n",
              "      cursor: pointer;\n",
              "      display: none;\n",
              "      fill: #1967D2;\n",
              "      height: 32px;\n",
              "      padding: 0 0 0 0;\n",
              "      width: 32px;\n",
              "    }\n",
              "\n",
              "    .colab-df-convert:hover {\n",
              "      background-color: #E2EBFA;\n",
              "      box-shadow: 0px 1px 2px rgba(60, 64, 67, 0.3), 0px 1px 3px 1px rgba(60, 64, 67, 0.15);\n",
              "      fill: #174EA6;\n",
              "    }\n",
              "\n",
              "    [theme=dark] .colab-df-convert {\n",
              "      background-color: #3B4455;\n",
              "      fill: #D2E3FC;\n",
              "    }\n",
              "\n",
              "    [theme=dark] .colab-df-convert:hover {\n",
              "      background-color: #434B5C;\n",
              "      box-shadow: 0px 1px 3px 1px rgba(0, 0, 0, 0.15);\n",
              "      filter: drop-shadow(0px 1px 2px rgba(0, 0, 0, 0.3));\n",
              "      fill: #FFFFFF;\n",
              "    }\n",
              "  </style>\n",
              "\n",
              "      <script>\n",
              "        const buttonEl =\n",
              "          document.querySelector('#df-91a9bc37-6abc-409b-9777-c9b22da9d440 button.colab-df-convert');\n",
              "        buttonEl.style.display =\n",
              "          google.colab.kernel.accessAllowed ? 'block' : 'none';\n",
              "\n",
              "        async function convertToInteractive(key) {\n",
              "          const element = document.querySelector('#df-91a9bc37-6abc-409b-9777-c9b22da9d440');\n",
              "          const dataTable =\n",
              "            await google.colab.kernel.invokeFunction('convertToInteractive',\n",
              "                                                     [key], {});\n",
              "          if (!dataTable) return;\n",
              "\n",
              "          const docLinkHtml = 'Like what you see? Visit the ' +\n",
              "            '<a target=\"_blank\" href=https://colab.research.google.com/notebooks/data_table.ipynb>data table notebook</a>'\n",
              "            + ' to learn more about interactive tables.';\n",
              "          element.innerHTML = '';\n",
              "          dataTable['output_type'] = 'display_data';\n",
              "          await google.colab.output.renderOutput(dataTable, element);\n",
              "          const docLink = document.createElement('div');\n",
              "          docLink.innerHTML = docLinkHtml;\n",
              "          element.appendChild(docLink);\n",
              "        }\n",
              "      </script>\n",
              "    </div>\n",
              "  </div>\n",
              "  "
            ]
          },
          "metadata": {},
          "execution_count": 513
        }
      ]
    },
    {
      "cell_type": "code",
      "source": [
        "# Seleccionamos las etiquetas en las caracteristicas categóricas\n",
        "df_cat = df.select_dtypes(exclude=[np.number])\n",
        "df_cat.describe(include='all')"
      ],
      "metadata": {
        "colab": {
          "base_uri": "https://localhost:8080/",
          "height": 175
        },
        "id": "JUbovLN260yu",
        "outputId": "a5bfd0fd-274a-47d2-8ae8-50cbb2ebc2dc"
      },
      "execution_count": null,
      "outputs": [
        {
          "output_type": "execute_result",
          "data": {
            "text/plain": [
              "        proto service  state\n",
              "count   82332   82332  82332\n",
              "unique    131      13      7\n",
              "top       tcp    otro    FIN\n",
              "freq    43095   47153  39339"
            ],
            "text/html": [
              "\n",
              "  <div id=\"df-3e1766ab-193e-4c91-9869-ad9b5fd6b0a5\">\n",
              "    <div class=\"colab-df-container\">\n",
              "      <div>\n",
              "<style scoped>\n",
              "    .dataframe tbody tr th:only-of-type {\n",
              "        vertical-align: middle;\n",
              "    }\n",
              "\n",
              "    .dataframe tbody tr th {\n",
              "        vertical-align: top;\n",
              "    }\n",
              "\n",
              "    .dataframe thead th {\n",
              "        text-align: right;\n",
              "    }\n",
              "</style>\n",
              "<table border=\"1\" class=\"dataframe\">\n",
              "  <thead>\n",
              "    <tr style=\"text-align: right;\">\n",
              "      <th></th>\n",
              "      <th>proto</th>\n",
              "      <th>service</th>\n",
              "      <th>state</th>\n",
              "    </tr>\n",
              "  </thead>\n",
              "  <tbody>\n",
              "    <tr>\n",
              "      <th>count</th>\n",
              "      <td>82332</td>\n",
              "      <td>82332</td>\n",
              "      <td>82332</td>\n",
              "    </tr>\n",
              "    <tr>\n",
              "      <th>unique</th>\n",
              "      <td>131</td>\n",
              "      <td>13</td>\n",
              "      <td>7</td>\n",
              "    </tr>\n",
              "    <tr>\n",
              "      <th>top</th>\n",
              "      <td>tcp</td>\n",
              "      <td>otro</td>\n",
              "      <td>FIN</td>\n",
              "    </tr>\n",
              "    <tr>\n",
              "      <th>freq</th>\n",
              "      <td>43095</td>\n",
              "      <td>47153</td>\n",
              "      <td>39339</td>\n",
              "    </tr>\n",
              "  </tbody>\n",
              "</table>\n",
              "</div>\n",
              "      <button class=\"colab-df-convert\" onclick=\"convertToInteractive('df-3e1766ab-193e-4c91-9869-ad9b5fd6b0a5')\"\n",
              "              title=\"Convert this dataframe to an interactive table.\"\n",
              "              style=\"display:none;\">\n",
              "        \n",
              "  <svg xmlns=\"http://www.w3.org/2000/svg\" height=\"24px\"viewBox=\"0 0 24 24\"\n",
              "       width=\"24px\">\n",
              "    <path d=\"M0 0h24v24H0V0z\" fill=\"none\"/>\n",
              "    <path d=\"M18.56 5.44l.94 2.06.94-2.06 2.06-.94-2.06-.94-.94-2.06-.94 2.06-2.06.94zm-11 1L8.5 8.5l.94-2.06 2.06-.94-2.06-.94L8.5 2.5l-.94 2.06-2.06.94zm10 10l.94 2.06.94-2.06 2.06-.94-2.06-.94-.94-2.06-.94 2.06-2.06.94z\"/><path d=\"M17.41 7.96l-1.37-1.37c-.4-.4-.92-.59-1.43-.59-.52 0-1.04.2-1.43.59L10.3 9.45l-7.72 7.72c-.78.78-.78 2.05 0 2.83L4 21.41c.39.39.9.59 1.41.59.51 0 1.02-.2 1.41-.59l7.78-7.78 2.81-2.81c.8-.78.8-2.07 0-2.86zM5.41 20L4 18.59l7.72-7.72 1.47 1.35L5.41 20z\"/>\n",
              "  </svg>\n",
              "      </button>\n",
              "      \n",
              "  <style>\n",
              "    .colab-df-container {\n",
              "      display:flex;\n",
              "      flex-wrap:wrap;\n",
              "      gap: 12px;\n",
              "    }\n",
              "\n",
              "    .colab-df-convert {\n",
              "      background-color: #E8F0FE;\n",
              "      border: none;\n",
              "      border-radius: 50%;\n",
              "      cursor: pointer;\n",
              "      display: none;\n",
              "      fill: #1967D2;\n",
              "      height: 32px;\n",
              "      padding: 0 0 0 0;\n",
              "      width: 32px;\n",
              "    }\n",
              "\n",
              "    .colab-df-convert:hover {\n",
              "      background-color: #E2EBFA;\n",
              "      box-shadow: 0px 1px 2px rgba(60, 64, 67, 0.3), 0px 1px 3px 1px rgba(60, 64, 67, 0.15);\n",
              "      fill: #174EA6;\n",
              "    }\n",
              "\n",
              "    [theme=dark] .colab-df-convert {\n",
              "      background-color: #3B4455;\n",
              "      fill: #D2E3FC;\n",
              "    }\n",
              "\n",
              "    [theme=dark] .colab-df-convert:hover {\n",
              "      background-color: #434B5C;\n",
              "      box-shadow: 0px 1px 3px 1px rgba(0, 0, 0, 0.15);\n",
              "      filter: drop-shadow(0px 1px 2px rgba(0, 0, 0, 0.3));\n",
              "      fill: #FFFFFF;\n",
              "    }\n",
              "  </style>\n",
              "\n",
              "      <script>\n",
              "        const buttonEl =\n",
              "          document.querySelector('#df-3e1766ab-193e-4c91-9869-ad9b5fd6b0a5 button.colab-df-convert');\n",
              "        buttonEl.style.display =\n",
              "          google.colab.kernel.accessAllowed ? 'block' : 'none';\n",
              "\n",
              "        async function convertToInteractive(key) {\n",
              "          const element = document.querySelector('#df-3e1766ab-193e-4c91-9869-ad9b5fd6b0a5');\n",
              "          const dataTable =\n",
              "            await google.colab.kernel.invokeFunction('convertToInteractive',\n",
              "                                                     [key], {});\n",
              "          if (!dataTable) return;\n",
              "\n",
              "          const docLinkHtml = 'Like what you see? Visit the ' +\n",
              "            '<a target=\"_blank\" href=https://colab.research.google.com/notebooks/data_table.ipynb>data table notebook</a>'\n",
              "            + ' to learn more about interactive tables.';\n",
              "          element.innerHTML = '';\n",
              "          dataTable['output_type'] = 'display_data';\n",
              "          await google.colab.output.renderOutput(dataTable, element);\n",
              "          const docLink = document.createElement('div');\n",
              "          docLink.innerHTML = docLinkHtml;\n",
              "          element.appendChild(docLink);\n",
              "        }\n",
              "      </script>\n",
              "    </div>\n",
              "  </div>\n",
              "  "
            ]
          },
          "metadata": {},
          "execution_count": 514
        }
      ]
    },
    {
      "cell_type": "code",
      "source": [
        "#Reducimos a 6 las etiquetas categoricas\n",
        "DEBUG = 0\n",
        "for cat in df_cat.columns:\n",
        "    if DEBUG == 1:\n",
        "        print(cat)\n",
        "        print('nunique = '+str(df_cat[cat].nunique()))\n",
        "        print(df_cat[cat].nunique()>6)\n",
        "        print(sum(df[cat].isin(df[cat].value_counts().head().index)))\n",
        "        print('----------------------------------------------------')\n",
        "    \n",
        "    if df_cat[cat].nunique()>6:\n",
        "        df[cat] = np.where(df[cat].isin(df[cat].value_counts().head().index), df[cat], 'otros')\n",
        "df_cat = df.select_dtypes(exclude=[np.number])\n",
        "df_cat.describe(include='all')"
      ],
      "metadata": {
        "colab": {
          "base_uri": "https://localhost:8080/",
          "height": 175
        },
        "id": "CdMuDmYP6544",
        "outputId": "31027cd3-66c4-4444-9987-216a582851cd"
      },
      "execution_count": null,
      "outputs": [
        {
          "output_type": "execute_result",
          "data": {
            "text/plain": [
              "        proto service  state\n",
              "count   82332   82332  82332\n",
              "unique      6       6      6\n",
              "top       tcp    otro    FIN\n",
              "freq    43095   47153  39339"
            ],
            "text/html": [
              "\n",
              "  <div id=\"df-a903280c-20c1-4ce3-b438-b02baae2c936\">\n",
              "    <div class=\"colab-df-container\">\n",
              "      <div>\n",
              "<style scoped>\n",
              "    .dataframe tbody tr th:only-of-type {\n",
              "        vertical-align: middle;\n",
              "    }\n",
              "\n",
              "    .dataframe tbody tr th {\n",
              "        vertical-align: top;\n",
              "    }\n",
              "\n",
              "    .dataframe thead th {\n",
              "        text-align: right;\n",
              "    }\n",
              "</style>\n",
              "<table border=\"1\" class=\"dataframe\">\n",
              "  <thead>\n",
              "    <tr style=\"text-align: right;\">\n",
              "      <th></th>\n",
              "      <th>proto</th>\n",
              "      <th>service</th>\n",
              "      <th>state</th>\n",
              "    </tr>\n",
              "  </thead>\n",
              "  <tbody>\n",
              "    <tr>\n",
              "      <th>count</th>\n",
              "      <td>82332</td>\n",
              "      <td>82332</td>\n",
              "      <td>82332</td>\n",
              "    </tr>\n",
              "    <tr>\n",
              "      <th>unique</th>\n",
              "      <td>6</td>\n",
              "      <td>6</td>\n",
              "      <td>6</td>\n",
              "    </tr>\n",
              "    <tr>\n",
              "      <th>top</th>\n",
              "      <td>tcp</td>\n",
              "      <td>otro</td>\n",
              "      <td>FIN</td>\n",
              "    </tr>\n",
              "    <tr>\n",
              "      <th>freq</th>\n",
              "      <td>43095</td>\n",
              "      <td>47153</td>\n",
              "      <td>39339</td>\n",
              "    </tr>\n",
              "  </tbody>\n",
              "</table>\n",
              "</div>\n",
              "      <button class=\"colab-df-convert\" onclick=\"convertToInteractive('df-a903280c-20c1-4ce3-b438-b02baae2c936')\"\n",
              "              title=\"Convert this dataframe to an interactive table.\"\n",
              "              style=\"display:none;\">\n",
              "        \n",
              "  <svg xmlns=\"http://www.w3.org/2000/svg\" height=\"24px\"viewBox=\"0 0 24 24\"\n",
              "       width=\"24px\">\n",
              "    <path d=\"M0 0h24v24H0V0z\" fill=\"none\"/>\n",
              "    <path d=\"M18.56 5.44l.94 2.06.94-2.06 2.06-.94-2.06-.94-.94-2.06-.94 2.06-2.06.94zm-11 1L8.5 8.5l.94-2.06 2.06-.94-2.06-.94L8.5 2.5l-.94 2.06-2.06.94zm10 10l.94 2.06.94-2.06 2.06-.94-2.06-.94-.94-2.06-.94 2.06-2.06.94z\"/><path d=\"M17.41 7.96l-1.37-1.37c-.4-.4-.92-.59-1.43-.59-.52 0-1.04.2-1.43.59L10.3 9.45l-7.72 7.72c-.78.78-.78 2.05 0 2.83L4 21.41c.39.39.9.59 1.41.59.51 0 1.02-.2 1.41-.59l7.78-7.78 2.81-2.81c.8-.78.8-2.07 0-2.86zM5.41 20L4 18.59l7.72-7.72 1.47 1.35L5.41 20z\"/>\n",
              "  </svg>\n",
              "      </button>\n",
              "      \n",
              "  <style>\n",
              "    .colab-df-container {\n",
              "      display:flex;\n",
              "      flex-wrap:wrap;\n",
              "      gap: 12px;\n",
              "    }\n",
              "\n",
              "    .colab-df-convert {\n",
              "      background-color: #E8F0FE;\n",
              "      border: none;\n",
              "      border-radius: 50%;\n",
              "      cursor: pointer;\n",
              "      display: none;\n",
              "      fill: #1967D2;\n",
              "      height: 32px;\n",
              "      padding: 0 0 0 0;\n",
              "      width: 32px;\n",
              "    }\n",
              "\n",
              "    .colab-df-convert:hover {\n",
              "      background-color: #E2EBFA;\n",
              "      box-shadow: 0px 1px 2px rgba(60, 64, 67, 0.3), 0px 1px 3px 1px rgba(60, 64, 67, 0.15);\n",
              "      fill: #174EA6;\n",
              "    }\n",
              "\n",
              "    [theme=dark] .colab-df-convert {\n",
              "      background-color: #3B4455;\n",
              "      fill: #D2E3FC;\n",
              "    }\n",
              "\n",
              "    [theme=dark] .colab-df-convert:hover {\n",
              "      background-color: #434B5C;\n",
              "      box-shadow: 0px 1px 3px 1px rgba(0, 0, 0, 0.15);\n",
              "      filter: drop-shadow(0px 1px 2px rgba(0, 0, 0, 0.3));\n",
              "      fill: #FFFFFF;\n",
              "    }\n",
              "  </style>\n",
              "\n",
              "      <script>\n",
              "        const buttonEl =\n",
              "          document.querySelector('#df-a903280c-20c1-4ce3-b438-b02baae2c936 button.colab-df-convert');\n",
              "        buttonEl.style.display =\n",
              "          google.colab.kernel.accessAllowed ? 'block' : 'none';\n",
              "\n",
              "        async function convertToInteractive(key) {\n",
              "          const element = document.querySelector('#df-a903280c-20c1-4ce3-b438-b02baae2c936');\n",
              "          const dataTable =\n",
              "            await google.colab.kernel.invokeFunction('convertToInteractive',\n",
              "                                                     [key], {});\n",
              "          if (!dataTable) return;\n",
              "\n",
              "          const docLinkHtml = 'Like what you see? Visit the ' +\n",
              "            '<a target=\"_blank\" href=https://colab.research.google.com/notebooks/data_table.ipynb>data table notebook</a>'\n",
              "            + ' to learn more about interactive tables.';\n",
              "          element.innerHTML = '';\n",
              "          dataTable['output_type'] = 'display_data';\n",
              "          await google.colab.output.renderOutput(dataTable, element);\n",
              "          const docLink = document.createElement('div');\n",
              "          docLink.innerHTML = docLinkHtml;\n",
              "          element.appendChild(docLink);\n",
              "        }\n",
              "      </script>\n",
              "    </div>\n",
              "  </div>\n",
              "  "
            ]
          },
          "metadata": {},
          "execution_count": 515
        }
      ]
    },
    {
      "cell_type": "code",
      "source": [
        "#Comprobamos que se han seleccionado las etiquetas correctas\n",
        "df['proto'].value_counts().index"
      ],
      "metadata": {
        "colab": {
          "base_uri": "https://localhost:8080/"
        },
        "id": "sKErUGD17CU4",
        "outputId": "c6d1934a-5588-4445-9819-4304806aba74"
      },
      "execution_count": null,
      "outputs": [
        {
          "output_type": "execute_result",
          "data": {
            "text/plain": [
              "Index(['tcp', 'udp', 'otros', 'unas', 'arp', 'ospf'], dtype='object')"
            ]
          },
          "metadata": {},
          "execution_count": 516
        }
      ]
    },
    {
      "cell_type": "code",
      "source": [
        "#Definimos X e y\n",
        "\n",
        "X = df.drop(['attack_cat', 'label'],1)\n",
        "\n",
        "#Clasificación multiclase\n",
        "y = df['attack_cat']\n",
        "\n",
        "#Clasificación binaria\n",
        "#y = df['label']\n"
      ],
      "metadata": {
        "colab": {
          "base_uri": "https://localhost:8080/"
        },
        "id": "Yg20haXJ83b_",
        "outputId": "d23c69d7-7f42-415b-91d0-1ec4df5ae554"
      },
      "execution_count": null,
      "outputs": [
        {
          "output_type": "stream",
          "name": "stderr",
          "text": [
            "/usr/local/lib/python3.7/dist-packages/ipykernel_launcher.py:3: FutureWarning:\n",
            "\n",
            "In a future version of pandas all arguments of DataFrame.drop except for the argument 'labels' will be keyword-only\n",
            "\n"
          ]
        }
      ]
    },
    {
      "cell_type": "code",
      "source": [
        "#Creamos una lista con las categorias\n",
        "categorias = list(X.columns)\n",
        "\n",
        "#Comprobamos el tamaño\n",
        "np.shape(X)\n"
      ],
      "metadata": {
        "colab": {
          "base_uri": "https://localhost:8080/"
        },
        "id": "9urEknR7rA0N",
        "outputId": "bb2e052a-9b2f-49a7-b508-412cb8c6bcb2"
      },
      "execution_count": null,
      "outputs": [
        {
          "output_type": "execute_result",
          "data": {
            "text/plain": [
              "(82332, 42)"
            ]
          },
          "metadata": {},
          "execution_count": 518
        }
      ]
    },
    {
      "cell_type": "code",
      "source": [
        "#Aplicamos codificación One-Hot a las columnas categoricas\n",
        "ct = ColumnTransformer(transformers=[('encoder', OneHotEncoder(), ['proto','service','state'])], remainder='passthrough')\n",
        "X = np.array(ct.fit_transform(X))\n",
        "\n",
        "#Comprobamos el tamaño\n",
        "np.shape(X)"
      ],
      "metadata": {
        "colab": {
          "base_uri": "https://localhost:8080/"
        },
        "id": "mJ_TYyrfTfA1",
        "outputId": "051cbf65-4243-4276-ae51-c56599f41a72"
      },
      "execution_count": null,
      "outputs": [
        {
          "output_type": "execute_result",
          "data": {
            "text/plain": [
              "(82332, 57)"
            ]
          },
          "metadata": {},
          "execution_count": 519
        }
      ]
    },
    {
      "cell_type": "code",
      "source": [
        "#Comrpobamos cuantas categorias hay\n",
        "len(categorias)"
      ],
      "metadata": {
        "colab": {
          "base_uri": "https://localhost:8080/"
        },
        "id": "qf3h0kaC-C-y",
        "outputId": "f942d970-db4b-429f-d7be-e608b3c617f4"
      },
      "execution_count": null,
      "outputs": [
        {
          "output_type": "execute_result",
          "data": {
            "text/plain": [
              "42"
            ]
          },
          "metadata": {},
          "execution_count": 520
        }
      ]
    },
    {
      "cell_type": "code",
      "source": [
        "#completamos las que faltan\n",
        "for label in list(df_cat['state'].value_counts().index)[::-1][1:]:\n",
        "    categorias.insert(0,label)\n",
        "    \n",
        "for label in list(df_cat['service'].value_counts().index)[::-1][1:]:\n",
        "    categorias.insert(0,label)\n",
        "    \n",
        "for label in list(df_cat['proto'].value_counts().index)[::-1][1:]:\n",
        "    categorias.insert(0,label)\n",
        "\n",
        "#Comprobamos \n",
        "len(categorias)"
      ],
      "metadata": {
        "colab": {
          "base_uri": "https://localhost:8080/"
        },
        "id": "CeTdzULKXYRW",
        "outputId": "6f9a06e6-b67d-499e-c319-86996de9ce6b"
      },
      "execution_count": null,
      "outputs": [
        {
          "output_type": "execute_result",
          "data": {
            "text/plain": [
              "57"
            ]
          },
          "metadata": {},
          "execution_count": 521
        }
      ]
    },
    {
      "cell_type": "code",
      "source": [
        "#Dividimos el set de entramiento y el set de prueba (80% train, 20% test)\n",
        "X_train, X_test, y_train, y_test = train_test_split(X, y, test_size = 0.2, random_state = 0, stratify=y)\n",
        "\n",
        "df_cat.describe(include='all')"
      ],
      "metadata": {
        "colab": {
          "base_uri": "https://localhost:8080/",
          "height": 175
        },
        "id": "5oPAWXil-4RY",
        "outputId": "04a4e35a-55aa-407e-8a09-5053148f789d"
      },
      "execution_count": null,
      "outputs": [
        {
          "output_type": "execute_result",
          "data": {
            "text/plain": [
              "        proto service  state\n",
              "count   82332   82332  82332\n",
              "unique      6       6      6\n",
              "top       tcp    otro    FIN\n",
              "freq    43095   47153  39339"
            ],
            "text/html": [
              "\n",
              "  <div id=\"df-e26d790f-1421-4a49-93a6-9993191a55f4\">\n",
              "    <div class=\"colab-df-container\">\n",
              "      <div>\n",
              "<style scoped>\n",
              "    .dataframe tbody tr th:only-of-type {\n",
              "        vertical-align: middle;\n",
              "    }\n",
              "\n",
              "    .dataframe tbody tr th {\n",
              "        vertical-align: top;\n",
              "    }\n",
              "\n",
              "    .dataframe thead th {\n",
              "        text-align: right;\n",
              "    }\n",
              "</style>\n",
              "<table border=\"1\" class=\"dataframe\">\n",
              "  <thead>\n",
              "    <tr style=\"text-align: right;\">\n",
              "      <th></th>\n",
              "      <th>proto</th>\n",
              "      <th>service</th>\n",
              "      <th>state</th>\n",
              "    </tr>\n",
              "  </thead>\n",
              "  <tbody>\n",
              "    <tr>\n",
              "      <th>count</th>\n",
              "      <td>82332</td>\n",
              "      <td>82332</td>\n",
              "      <td>82332</td>\n",
              "    </tr>\n",
              "    <tr>\n",
              "      <th>unique</th>\n",
              "      <td>6</td>\n",
              "      <td>6</td>\n",
              "      <td>6</td>\n",
              "    </tr>\n",
              "    <tr>\n",
              "      <th>top</th>\n",
              "      <td>tcp</td>\n",
              "      <td>otro</td>\n",
              "      <td>FIN</td>\n",
              "    </tr>\n",
              "    <tr>\n",
              "      <th>freq</th>\n",
              "      <td>43095</td>\n",
              "      <td>47153</td>\n",
              "      <td>39339</td>\n",
              "    </tr>\n",
              "  </tbody>\n",
              "</table>\n",
              "</div>\n",
              "      <button class=\"colab-df-convert\" onclick=\"convertToInteractive('df-e26d790f-1421-4a49-93a6-9993191a55f4')\"\n",
              "              title=\"Convert this dataframe to an interactive table.\"\n",
              "              style=\"display:none;\">\n",
              "        \n",
              "  <svg xmlns=\"http://www.w3.org/2000/svg\" height=\"24px\"viewBox=\"0 0 24 24\"\n",
              "       width=\"24px\">\n",
              "    <path d=\"M0 0h24v24H0V0z\" fill=\"none\"/>\n",
              "    <path d=\"M18.56 5.44l.94 2.06.94-2.06 2.06-.94-2.06-.94-.94-2.06-.94 2.06-2.06.94zm-11 1L8.5 8.5l.94-2.06 2.06-.94-2.06-.94L8.5 2.5l-.94 2.06-2.06.94zm10 10l.94 2.06.94-2.06 2.06-.94-2.06-.94-.94-2.06-.94 2.06-2.06.94z\"/><path d=\"M17.41 7.96l-1.37-1.37c-.4-.4-.92-.59-1.43-.59-.52 0-1.04.2-1.43.59L10.3 9.45l-7.72 7.72c-.78.78-.78 2.05 0 2.83L4 21.41c.39.39.9.59 1.41.59.51 0 1.02-.2 1.41-.59l7.78-7.78 2.81-2.81c.8-.78.8-2.07 0-2.86zM5.41 20L4 18.59l7.72-7.72 1.47 1.35L5.41 20z\"/>\n",
              "  </svg>\n",
              "      </button>\n",
              "      \n",
              "  <style>\n",
              "    .colab-df-container {\n",
              "      display:flex;\n",
              "      flex-wrap:wrap;\n",
              "      gap: 12px;\n",
              "    }\n",
              "\n",
              "    .colab-df-convert {\n",
              "      background-color: #E8F0FE;\n",
              "      border: none;\n",
              "      border-radius: 50%;\n",
              "      cursor: pointer;\n",
              "      display: none;\n",
              "      fill: #1967D2;\n",
              "      height: 32px;\n",
              "      padding: 0 0 0 0;\n",
              "      width: 32px;\n",
              "    }\n",
              "\n",
              "    .colab-df-convert:hover {\n",
              "      background-color: #E2EBFA;\n",
              "      box-shadow: 0px 1px 2px rgba(60, 64, 67, 0.3), 0px 1px 3px 1px rgba(60, 64, 67, 0.15);\n",
              "      fill: #174EA6;\n",
              "    }\n",
              "\n",
              "    [theme=dark] .colab-df-convert {\n",
              "      background-color: #3B4455;\n",
              "      fill: #D2E3FC;\n",
              "    }\n",
              "\n",
              "    [theme=dark] .colab-df-convert:hover {\n",
              "      background-color: #434B5C;\n",
              "      box-shadow: 0px 1px 3px 1px rgba(0, 0, 0, 0.15);\n",
              "      filter: drop-shadow(0px 1px 2px rgba(0, 0, 0, 0.3));\n",
              "      fill: #FFFFFF;\n",
              "    }\n",
              "  </style>\n",
              "\n",
              "      <script>\n",
              "        const buttonEl =\n",
              "          document.querySelector('#df-e26d790f-1421-4a49-93a6-9993191a55f4 button.colab-df-convert');\n",
              "        buttonEl.style.display =\n",
              "          google.colab.kernel.accessAllowed ? 'block' : 'none';\n",
              "\n",
              "        async function convertToInteractive(key) {\n",
              "          const element = document.querySelector('#df-e26d790f-1421-4a49-93a6-9993191a55f4');\n",
              "          const dataTable =\n",
              "            await google.colab.kernel.invokeFunction('convertToInteractive',\n",
              "                                                     [key], {});\n",
              "          if (!dataTable) return;\n",
              "\n",
              "          const docLinkHtml = 'Like what you see? Visit the ' +\n",
              "            '<a target=\"_blank\" href=https://colab.research.google.com/notebooks/data_table.ipynb>data table notebook</a>'\n",
              "            + ' to learn more about interactive tables.';\n",
              "          element.innerHTML = '';\n",
              "          dataTable['output_type'] = 'display_data';\n",
              "          await google.colab.output.renderOutput(dataTable, element);\n",
              "          const docLink = document.createElement('div');\n",
              "          docLink.innerHTML = docLinkHtml;\n",
              "          element.appendChild(docLink);\n",
              "        }\n",
              "      </script>\n",
              "    </div>\n",
              "  </div>\n",
              "  "
            ]
          },
          "metadata": {},
          "execution_count": 522
        }
      ]
    },
    {
      "cell_type": "code",
      "source": [
        "#Escalamos las caracteristicas para ponerlas del mismo orden de tamaño\n",
        "#Aplicamos escalador estandar \n",
        "sc = StandardScaler()\n",
        "\n",
        "#Empezamos a escalar a partir de la fila 18\n",
        "#las primeras 18 corresponden a las catagorias codificadas\n",
        "X_train[:, 18:] = sc.fit_transform(X_train[:, 18:])\n",
        "X_test[:, 18:] = sc.transform(X_test[:, 18:])"
      ],
      "metadata": {
        "id": "II-ZXdLjXq2G"
      },
      "execution_count": null,
      "outputs": []
    },
    {
      "cell_type": "code",
      "source": [
        "#Comprobamos el tamaño de cada muestra\n",
        "print(f\"X_train_shape: {X_train.shape}, y_train_shape: {y_train.shape}\")\n",
        "print(f\"X_test_shape: {X_test.shape}, y_test_shape: {y_test.shape}\")"
      ],
      "metadata": {
        "colab": {
          "base_uri": "https://localhost:8080/"
        },
        "id": "oD2e77lm-9Yx",
        "outputId": "ce967159-6454-495e-d200-183d8386e40e"
      },
      "execution_count": null,
      "outputs": [
        {
          "output_type": "stream",
          "name": "stdout",
          "text": [
            "X_train_shape: (65865, 57), y_train_shape: (65865,)\n",
            "X_test_shape: (16467, 57), y_test_shape: (16467,)\n"
          ]
        }
      ]
    },
    {
      "cell_type": "markdown",
      "source": [
        "Modelos de clasificación"
      ],
      "metadata": {
        "id": "1sjp3LYeULbl"
      }
    },
    {
      "cell_type": "code",
      "source": [
        "#Multiclase\n",
        "target_names = [\n",
        "    'Normal',\n",
        "    'Generic',\n",
        "    'Exploits',\n",
        "    'Fuzzers',\n",
        "    'DoS',\n",
        "    'Reconnaissance',   \n",
        "    'Analysis',          \n",
        "    'Backdoor',\n",
        "    'Shellcode',\n",
        "    'Worms'\n",
        "]\n",
        "\n"
      ],
      "metadata": {
        "id": "W4iRdFTACj4H"
      },
      "execution_count": null,
      "outputs": []
    },
    {
      "cell_type": "code",
      "source": [
        "#Binaria\n",
        "target_names = [\n",
        "    'Normal',\n",
        "    'Attack',\n",
        "]"
      ],
      "metadata": {
        "id": "KmPhZaXysShg"
      },
      "execution_count": null,
      "outputs": []
    },
    {
      "cell_type": "code",
      "source": [
        "resultados = pd.DataFrame(columns=['Accuracy','Recall','Precision','F1-Score','Tiempo Ejecución'])"
      ],
      "metadata": {
        "id": "mfuAkzXHZFb2"
      },
      "execution_count": null,
      "outputs": []
    },
    {
      "cell_type": "markdown",
      "source": [
        "LOGISTIC REGRESSION"
      ],
      "metadata": {
        "id": "NBuZ4hptsm5A"
      }
    },
    {
      "cell_type": "code",
      "source": [
        "# Entrenamos el logistic Regression\n",
        "classifier = LogisticRegression()\n",
        "\n",
        "tiempo_inicial = time()\n",
        "classifier.fit(X_train, y_train)\n",
        "\n",
        " # Realizamos la clasificación con el set de test\n",
        "logistic_regression_pred = classifier.predict(X_test)\n",
        "tiempo_final = time()\n",
        "tiempo_ejecucion = tiempo_final - tiempo_inicial\n",
        "print('El tiempo de ejecución fue de: %.3f segundos' % tiempo_ejecucion)\n",
        "\n",
        "# Sacamos las métricas del clasificador:\n",
        "print(classification_report(y_test,logistic_regression_pred,target_names=target_names))\n"
      ],
      "metadata": {
        "colab": {
          "base_uri": "https://localhost:8080/"
        },
        "id": "Cqbj-yOFURrp",
        "outputId": "80aabd96-c6eb-4859-ad41-bdf96630a8bb"
      },
      "execution_count": null,
      "outputs": [
        {
          "output_type": "stream",
          "name": "stdout",
          "text": [
            "El tiempo de ejecución fue de: 12.320 segundos\n",
            "                precision    recall  f1-score   support\n",
            "\n",
            "        Normal       0.89      0.97      0.93      7400\n",
            "       Generic       0.99      0.96      0.98      3774\n",
            "      Exploits       0.65      0.71      0.68      2227\n",
            "       Fuzzers       0.62      0.50      0.55      1212\n",
            "           DoS       0.41      0.30      0.35       818\n",
            "Reconnaissance       0.60      0.61      0.60       699\n",
            "      Analysis       0.00      0.00      0.00       135\n",
            "      Backdoor       0.00      0.00      0.00       117\n",
            "     Shellcode       0.00      0.00      0.00        76\n",
            "         Worms       0.00      0.00      0.00         9\n",
            "\n",
            "      accuracy                           0.83     16467\n",
            "     macro avg       0.42      0.40      0.41     16467\n",
            "  weighted avg       0.81      0.83      0.82     16467\n",
            "\n"
          ]
        },
        {
          "output_type": "stream",
          "name": "stderr",
          "text": [
            "/usr/local/lib/python3.7/dist-packages/sklearn/linear_model/_logistic.py:818: ConvergenceWarning:\n",
            "\n",
            "lbfgs failed to converge (status=1):\n",
            "STOP: TOTAL NO. of ITERATIONS REACHED LIMIT.\n",
            "\n",
            "Increase the number of iterations (max_iter) or scale the data as shown in:\n",
            "    https://scikit-learn.org/stable/modules/preprocessing.html\n",
            "Please also refer to the documentation for alternative solver options:\n",
            "    https://scikit-learn.org/stable/modules/linear_model.html#logistic-regression\n",
            "\n",
            "/usr/local/lib/python3.7/dist-packages/sklearn/metrics/_classification.py:1318: UndefinedMetricWarning:\n",
            "\n",
            "Precision and F-score are ill-defined and being set to 0.0 in labels with no predicted samples. Use `zero_division` parameter to control this behavior.\n",
            "\n",
            "/usr/local/lib/python3.7/dist-packages/sklearn/metrics/_classification.py:1318: UndefinedMetricWarning:\n",
            "\n",
            "Precision and F-score are ill-defined and being set to 0.0 in labels with no predicted samples. Use `zero_division` parameter to control this behavior.\n",
            "\n",
            "/usr/local/lib/python3.7/dist-packages/sklearn/metrics/_classification.py:1318: UndefinedMetricWarning:\n",
            "\n",
            "Precision and F-score are ill-defined and being set to 0.0 in labels with no predicted samples. Use `zero_division` parameter to control this behavior.\n",
            "\n"
          ]
        }
      ]
    },
    {
      "cell_type": "code",
      "source": [
        "accuracy = accuracy_score(y_test, logistic_regression_pred)\n",
        "recall = recall_score(y_test, logistic_regression_pred, average='weighted')\n",
        "precision = precision_score(y_test, logistic_regression_pred, average='weighted')\n",
        "f1s = f1_score(y_test, logistic_regression_pred, average='weighted')\n",
        "resultados.loc['Logistic Regression'] = [accuracy, recall, precision, f1s,tiempo_ejecucion]"
      ],
      "metadata": {
        "id": "_yP5XWPuZlA6"
      },
      "execution_count": null,
      "outputs": []
    },
    {
      "cell_type": "code",
      "source": [
        "cm = confusion_matrix(y_test,logistic_regression_pred)\n",
        "acc = accuracy_score(y_test, logistic_regression_pred)\n",
        "acc"
      ],
      "metadata": {
        "colab": {
          "base_uri": "https://localhost:8080/"
        },
        "id": "uO8dkMZfwkVX",
        "outputId": "e1b04cfb-57f4-4f06-b93f-3faa8041979c"
      },
      "execution_count": null,
      "outputs": [
        {
          "output_type": "execute_result",
          "data": {
            "text/plain": [
              "0.8294771360903626"
            ]
          },
          "metadata": {},
          "execution_count": 527
        }
      ]
    },
    {
      "cell_type": "code",
      "source": [
        "plt.figure(figsize=(10,6))\n",
        "ax = sns.heatmap(cm/np.sum(cm),annot=True,fmt='.2%', cmap='Blues')\n",
        "ax.set_title('Matriz de Confusión - Logistic Regression')\n",
        "ax.set_xlabel(f'Accuracy:{round(acc*100,2)}%')\n",
        "ax.set_ylabel('True label')\n",
        "\n",
        "ax.yaxis.set_ticklabels(target_names)\n",
        "ax.xaxis.set_ticklabels(target_names)\n",
        "plt.xticks(rotation=45)\n",
        "plt.yticks(rotation=0)\n",
        "plt.tight_layout()\n",
        "plt.show()"
      ],
      "metadata": {
        "colab": {
          "base_uri": "https://localhost:8080/",
          "height": 441
        },
        "id": "xkjEsaGhVkXQ",
        "outputId": "2a498e04-8ae2-4c46-9a8e-0dbfaaec1d36"
      },
      "execution_count": null,
      "outputs": [
        {
          "output_type": "display_data",
          "data": {
            "text/plain": [
              "<Figure size 720x432 with 2 Axes>"
            ],
            "image/png": "[encoded data removed]"
          },
          "metadata": {}
        }
      ]
    },
    {
      "cell_type": "markdown",
      "source": [
        "RANDOM FOREST"
      ],
      "metadata": {
        "id": "9qId-_FGssc3"
      }
    },
    {
      "cell_type": "code",
      "source": [
        "# Entrenamos el Random Forest\n",
        "classifier = RandomForestClassifier(n_estimators=400, n_jobs=3, verbose=1)\n",
        "\n",
        "tiempo_inicial = time()\n",
        "classifier.fit(X_train, y_train)\n",
        "\n",
        " # Realizamos la clasificación con el set de test\n",
        "random_forest_pred = classifier.predict(X_test)\n",
        "tiempo_final = time()\n",
        "tiempo_ejecucion = tiempo_final - tiempo_inicial\n",
        "print('El tiempo de ejecución fue de: %.3f segundos' % tiempo_ejecucion)\n",
        "\n",
        "# Sacamos las métricas del clasificador:\n",
        "print(classification_report(y_test,random_forest_pred,target_names=target_names))"
      ],
      "metadata": {
        "colab": {
          "base_uri": "https://localhost:8080/"
        },
        "id": "-diSLk3XYRrs",
        "outputId": "33624081-550e-4edf-f431-a6c86b948b71"
      },
      "execution_count": null,
      "outputs": [
        {
          "output_type": "stream",
          "name": "stderr",
          "text": [
            "[Parallel(n_jobs=3)]: Using backend ThreadingBackend with 3 concurrent workers.\n",
            "[Parallel(n_jobs=3)]: Done  44 tasks      | elapsed:    3.8s\n",
            "[Parallel(n_jobs=3)]: Done 194 tasks      | elapsed:   16.5s\n",
            "[Parallel(n_jobs=3)]: Done 400 out of 400 | elapsed:   33.9s finished\n",
            "[Parallel(n_jobs=3)]: Using backend ThreadingBackend with 3 concurrent workers.\n",
            "[Parallel(n_jobs=3)]: Done  44 tasks      | elapsed:    0.1s\n",
            "[Parallel(n_jobs=3)]: Done 194 tasks      | elapsed:    0.3s\n"
          ]
        },
        {
          "output_type": "stream",
          "name": "stdout",
          "text": [
            "El tiempo de ejecución fue de: 34.985 segundos\n",
            "              precision    recall  f1-score   support\n",
            "\n",
            "      Normal       0.97      0.98      0.97      7400\n",
            "      Attack       0.98      0.97      0.98      9067\n",
            "\n",
            "    accuracy                           0.98     16467\n",
            "   macro avg       0.98      0.98      0.98     16467\n",
            "weighted avg       0.98      0.98      0.98     16467\n",
            "\n"
          ]
        },
        {
          "output_type": "stream",
          "name": "stderr",
          "text": [
            "[Parallel(n_jobs=3)]: Done 400 out of 400 | elapsed:    0.7s finished\n"
          ]
        }
      ]
    },
    {
      "cell_type": "code",
      "source": [
        "accuracy = accuracy_score(y_test, random_forest_pred)\n",
        "recall = recall_score(y_test, random_forest_pred, average='weighted')\n",
        "precision = precision_score(y_test, random_forest_pred, average='weighted')\n",
        "f1s = f1_score(y_test, random_forest_pred, average='weighted')\n",
        "resultados.loc['Random Forest'] = [accuracy, recall, precision, f1s,tiempo_ejecucion]"
      ],
      "metadata": {
        "colab": {
          "base_uri": "https://localhost:8080/"
        },
        "id": "tn0un1_vefn9",
        "outputId": "585ba365-b651-40e7-8f6d-c11d58288632"
      },
      "execution_count": null,
      "outputs": [
        {
          "output_type": "stream",
          "name": "stderr",
          "text": [
            "/usr/local/lib/python3.7/dist-packages/sklearn/metrics/_classification.py:1318: UndefinedMetricWarning:\n",
            "\n",
            "Precision is ill-defined and being set to 0.0 in labels with no predicted samples. Use `zero_division` parameter to control this behavior.\n",
            "\n"
          ]
        }
      ]
    },
    {
      "cell_type": "code",
      "source": [
        "cm = confusion_matrix(y_test,random_forest_pred)\n",
        "acc = accuracy_score(y_test, random_forest_pred)\n",
        "acc"
      ],
      "metadata": {
        "colab": {
          "base_uri": "https://localhost:8080/"
        },
        "id": "T1mh9P9JXP3e",
        "outputId": "a3f9f4db-efc2-4aeb-bd26-73ecf7911bf6"
      },
      "execution_count": null,
      "outputs": [
        {
          "output_type": "execute_result",
          "data": {
            "text/plain": [
              "0.3312078702860266"
            ]
          },
          "metadata": {},
          "execution_count": 531
        }
      ]
    },
    {
      "cell_type": "code",
      "source": [
        "plt.figure(figsize=(10,6))\n",
        "ax = sns.heatmap(cm/np.sum(cm),annot=True,fmt='.2%', cmap='Blues')\n",
        "ax.set_title('Matriz de Confusión - Random Forest')\n",
        "ax.set_xlabel(f'Accuracy:{round(acc*100,2)}%')\n",
        "ax.set_ylabel('True label')\n",
        "\n",
        "ax.yaxis.set_ticklabels(target_names)\n",
        "ax.xaxis.set_ticklabels(target_names)\n",
        "plt.xticks(rotation=45)\n",
        "plt.yticks(rotation=0)\n",
        "plt.tight_layout()\n",
        "plt.show()"
      ],
      "metadata": {
        "colab": {
          "base_uri": "https://localhost:8080/",
          "height": 441
        },
        "id": "Rh8Z11l1XXG2",
        "outputId": "60329088-9218-4d99-bfc4-e6ccc3205c50"
      },
      "execution_count": null,
      "outputs": [
        {
          "output_type": "display_data",
          "data": {
            "text/plain": [
              "<Figure size 720x432 with 2 Axes>"
            ],
            "image/png": "[encoded data removed]"
          },
          "metadata": {}
        }
      ]
    },
    {
      "cell_type": "markdown",
      "source": [
        "K NEIGHBORS"
      ],
      "metadata": {
        "id": "0f7knaCgsrfX"
      }
    },
    {
      "cell_type": "code",
      "source": [
        "# Entrenamos el random forest\n",
        "classifier = KNeighborsClassifier(n_neighbors = 5, metric = 'minkowski', p = 2)\n",
        "\n",
        "tiempo_inicial = time()\n",
        "classifier.fit(X_train, y_train)\n",
        "\n",
        "# Realizamos la clasificación con el set de test\n",
        "KNeighbors_pred = classifier.predict(X_test)\n",
        "tiempo_final = time()\n",
        "tiempo_ejecucion = tiempo_final - tiempo_inicial\n",
        "print('El tiempo de ejecución fue de: %.3f segundos' % tiempo_ejecucion)\n",
        "\n",
        "print(classification_report(y_test, KNeighbors_pred, target_names=target_names))"
      ],
      "metadata": {
        "colab": {
          "base_uri": "https://localhost:8080/"
        },
        "id": "6R0IvIiPs0s_",
        "outputId": "e9333613-ca40-4c16-fd5c-07f800a223f8"
      },
      "execution_count": null,
      "outputs": [
        {
          "output_type": "stream",
          "name": "stdout",
          "text": [
            "El tiempo de ejecución fue de: 26.835 segundos\n",
            "              precision    recall  f1-score   support\n",
            "\n",
            "      Normal       0.93      0.97      0.95      7400\n",
            "      Attack       0.97      0.94      0.95      9067\n",
            "\n",
            "    accuracy                           0.95     16467\n",
            "   macro avg       0.95      0.95      0.95     16467\n",
            "weighted avg       0.95      0.95      0.95     16467\n",
            "\n"
          ]
        }
      ]
    },
    {
      "cell_type": "code",
      "source": [
        "accuracy = accuracy_score(y_test, KNeighbors_pred)\n",
        "recall = recall_score(y_test, KNeighbors_pred, average='weighted')\n",
        "precision = precision_score(y_test, KNeighbors_pred, average='weighted')\n",
        "f1s = f1_score(y_test, KNeighbors_pred, average='weighted')\n",
        "resultados.loc['K Neighbors'] = [accuracy, recall, precision, f1s,tiempo_ejecucion]"
      ],
      "metadata": {
        "id": "_NvA5y7Ue08_"
      },
      "execution_count": null,
      "outputs": []
    },
    {
      "cell_type": "code",
      "source": [
        "cm = confusion_matrix(y_test,KNeighbors_pred)\n",
        "acc = accuracy_score(y_test, KNeighbors_pred)\n",
        "acc"
      ],
      "metadata": {
        "colab": {
          "base_uri": "https://localhost:8080/"
        },
        "id": "hjsYyvT7Xpg5",
        "outputId": "88aea23c-640d-47ce-c38e-a40428163486"
      },
      "execution_count": null,
      "outputs": [
        {
          "output_type": "execute_result",
          "data": {
            "text/plain": [
              "0.9505678022712091"
            ]
          },
          "metadata": {},
          "execution_count": 491
        }
      ]
    },
    {
      "cell_type": "code",
      "source": [
        "plt.figure(figsize=(10,6))\n",
        "ax = sns.heatmap(cm/np.sum(cm),annot=True,fmt='.2%', cmap='Blues')\n",
        "ax.set_title('Matriz de Confusión - K Neighbors')\n",
        "ax.set_xlabel(f'Accuracy:{round(acc*100,2)}%')\n",
        "ax.set_ylabel('True label')\n",
        "\n",
        "ax.yaxis.set_ticklabels(target_names)\n",
        "ax.xaxis.set_ticklabels(target_names)\n",
        "plt.xticks(rotation=45)\n",
        "plt.yticks(rotation=0)\n",
        "plt.tight_layout()\n",
        "plt.show()"
      ],
      "metadata": {
        "colab": {
          "base_uri": "https://localhost:8080/",
          "height": 441
        },
        "id": "IEXxCAgKXv4u",
        "outputId": "09d6740c-8d95-4367-d7b8-d1521f045258"
      },
      "execution_count": null,
      "outputs": [
        {
          "output_type": "display_data",
          "data": {
            "text/plain": [
              "<Figure size 720x432 with 2 Axes>"
            ],
            "image/png": "[encoded data removed]"
          },
          "metadata": {}
        }
      ]
    },
    {
      "cell_type": "markdown",
      "source": [
        "DECISION TREE"
      ],
      "metadata": {
        "id": "iM6mKfiotJ7J"
      }
    },
    {
      "cell_type": "code",
      "source": [
        "#Entrenamos con Decision Tree\n",
        "classifier = DecisionTreeClassifier()\n",
        "\n",
        "tiempo_inicial = time()\n",
        "classifier.fit(X_train, y_train)\n",
        "\n",
        "# Realizamos la clasificación con el set de test\n",
        "decision_tree_pred = classifier.predict(X_test)\n",
        "tiempo_final = time()\n",
        "tiempo_ejecucion = tiempo_final - tiempo_inicial\n",
        "print('El tiempo de ejecución fue de: %.3f segundos' % tiempo_ejecucion)\n",
        "\n",
        "print(classification_report(y_test, decision_tree_pred, target_names=target_names))"
      ],
      "metadata": {
        "colab": {
          "base_uri": "https://localhost:8080/"
        },
        "id": "TL5rXAWjtGZp",
        "outputId": "d6a747a5-4bf2-4e86-b0e4-390ce283fa11"
      },
      "execution_count": null,
      "outputs": [
        {
          "output_type": "stream",
          "name": "stdout",
          "text": [
            "El tiempo de ejecución fue de: 1.168 segundos\n",
            "              precision    recall  f1-score   support\n",
            "\n",
            "      Normal       0.96      0.96      0.96      7400\n",
            "      Attack       0.97      0.97      0.97      9067\n",
            "\n",
            "    accuracy                           0.97     16467\n",
            "   macro avg       0.97      0.97      0.97     16467\n",
            "weighted avg       0.97      0.97      0.97     16467\n",
            "\n"
          ]
        }
      ]
    },
    {
      "cell_type": "code",
      "source": [
        "accuracy = accuracy_score(y_test, decision_tree_pred)\n",
        "recall = recall_score(y_test, decision_tree_pred, average='weighted')\n",
        "precision = precision_score(y_test, decision_tree_pred, average='weighted')\n",
        "f1s = f1_score(y_test, decision_tree_pred, average='weighted')\n",
        "resultados.loc['Decision Tree'] = [accuracy, recall, precision, f1s,tiempo_ejecucion]"
      ],
      "metadata": {
        "id": "-RTTaHYxfDdq"
      },
      "execution_count": null,
      "outputs": []
    },
    {
      "cell_type": "code",
      "source": [
        "cm = confusion_matrix(y_test,decision_tree_pred)\n",
        "acc = accuracy_score(y_test, decision_tree_pred)\n",
        "acc"
      ],
      "metadata": {
        "colab": {
          "base_uri": "https://localhost:8080/"
        },
        "id": "Z36R0vRBX7Su",
        "outputId": "a45270cb-dcc8-4d3b-83a6-d2bbdde0f70c"
      },
      "execution_count": null,
      "outputs": [
        {
          "output_type": "execute_result",
          "data": {
            "text/plain": [
              "0.966296228821279"
            ]
          },
          "metadata": {},
          "execution_count": 495
        }
      ]
    },
    {
      "cell_type": "code",
      "source": [
        "plt.figure(figsize=(10,6))\n",
        "ax = sns.heatmap(cm/np.sum(cm),annot=True,fmt='.2%', cmap='Blues')\n",
        "ax.set_title('Matriz de Confusión - Decision Tree')\n",
        "ax.set_xlabel(f'Accuracy:{round(acc*100,2)}%')\n",
        "ax.set_ylabel('True label')\n",
        "\n",
        "ax.yaxis.set_ticklabels(target_names)\n",
        "ax.xaxis.set_ticklabels(target_names)\n",
        "plt.xticks(rotation=45)\n",
        "plt.yticks(rotation=0)\n",
        "plt.tight_layout()\n",
        "plt.show()"
      ],
      "metadata": {
        "colab": {
          "base_uri": "https://localhost:8080/",
          "height": 441
        },
        "id": "LgH5WCokYAyg",
        "outputId": "ed973c9f-2e3d-4115-b472-65280675d1f4"
      },
      "execution_count": null,
      "outputs": [
        {
          "output_type": "display_data",
          "data": {
            "text/plain": [
              "<Figure size 720x432 with 2 Axes>"
            ],
            "image/png": "[encoded data removed]"
          },
          "metadata": {}
        }
      ]
    },
    {
      "cell_type": "markdown",
      "source": [
        "Extra Trees"
      ],
      "metadata": {
        "id": "vITKw7wNgGTH"
      }
    },
    {
      "cell_type": "code",
      "source": [
        "#Entrenamos con Extra Trees\n",
        "classifier = ExtraTreesClassifier(random_state=0,n_jobs=-1)\n",
        "\n",
        "tiempo_inicial = time()\n",
        "classifier.fit(X_train, y_train)\n",
        "\n",
        "# Realizamos la clasificación con el set de test\n",
        "extra_trees_pred = classifier.predict(X_test)\n",
        "tiempo_final = time()\n",
        "tiempo_ejecucion = tiempo_final - tiempo_inicial\n",
        "print('El tiempo de ejecución fue de: %.3f segundos' % tiempo_ejecucion)\n",
        "\n",
        "print(classification_report(y_test, extra_trees_pred, target_names=target_names))"
      ],
      "metadata": {
        "colab": {
          "base_uri": "https://localhost:8080/"
        },
        "id": "sIFHSv1fgHgv",
        "outputId": "13c077ce-6bba-4c43-f5b0-3d93b53ac022"
      },
      "execution_count": null,
      "outputs": [
        {
          "output_type": "stream",
          "name": "stdout",
          "text": [
            "El tiempo de ejecución fue de: 5.775 segundos\n",
            "              precision    recall  f1-score   support\n",
            "\n",
            "      Normal       0.96      0.98      0.97      7400\n",
            "      Attack       0.98      0.97      0.98      9067\n",
            "\n",
            "    accuracy                           0.98     16467\n",
            "   macro avg       0.97      0.98      0.97     16467\n",
            "weighted avg       0.98      0.98      0.98     16467\n",
            "\n"
          ]
        }
      ]
    },
    {
      "cell_type": "code",
      "source": [
        "accuracy = accuracy_score(y_test, extra_trees_pred)\n",
        "recall = recall_score(y_test, extra_trees_pred, average='weighted')\n",
        "precision = precision_score(y_test, extra_trees_pred, average='weighted')\n",
        "f1s = f1_score(y_test, extra_trees_pred, average='weighted')\n",
        "resultados.loc['Extra Trees'] = [accuracy, recall, precision, f1s,tiempo_ejecucion]"
      ],
      "metadata": {
        "id": "h3uuzOYughj6"
      },
      "execution_count": null,
      "outputs": []
    },
    {
      "cell_type": "code",
      "source": [
        "cm = confusion_matrix(y_test,extra_trees_pred)\n",
        "acc = accuracy_score(y_test, extra_trees_pred)\n",
        "acc"
      ],
      "metadata": {
        "colab": {
          "base_uri": "https://localhost:8080/"
        },
        "id": "xspH8SXfgqKw",
        "outputId": "5b89e34d-a8a6-488c-f0df-76963b4d631c"
      },
      "execution_count": null,
      "outputs": [
        {
          "output_type": "execute_result",
          "data": {
            "text/plain": [
              "0.9751017185886925"
            ]
          },
          "metadata": {},
          "execution_count": 499
        }
      ]
    },
    {
      "cell_type": "code",
      "source": [
        "plt.figure(figsize=(10,6))\n",
        "ax = sns.heatmap(cm/np.sum(cm),annot=True,fmt='.2%', cmap='Blues')\n",
        "ax.set_title('Matriz de Confusión - Extra Trees')\n",
        "ax.set_xlabel(f'Accuracy:{round(acc*100,2)}%')\n",
        "ax.set_ylabel('True label')\n",
        "\n",
        "ax.yaxis.set_ticklabels(target_names)\n",
        "ax.xaxis.set_ticklabels(target_names)\n",
        "plt.xticks(rotation=45)\n",
        "plt.yticks(rotation=0)\n",
        "plt.tight_layout()\n",
        "plt.show()"
      ],
      "metadata": {
        "colab": {
          "base_uri": "https://localhost:8080/",
          "height": 441
        },
        "id": "Iw0BAZofgwGD",
        "outputId": "8f1bc1b5-b629-4722-d3a0-0f17813cd2ad"
      },
      "execution_count": null,
      "outputs": [
        {
          "output_type": "display_data",
          "data": {
            "text/plain": [
              "<Figure size 720x432 with 2 Axes>"
            ],
            "image/png": "[encoded data removed]"
          },
          "metadata": {}
        }
      ]
    },
    {
      "cell_type": "code",
      "source": [
        "#Entrenamos con MLP\n",
        "classifier = MLPClassifier(hidden_layer_sizes = (20,20,), \n",
        "                      activation='relu', \n",
        "                      solver='adam',\n",
        "                      batch_size=2000,\n",
        "                      verbose=0).fit(X_train,y_train)\n",
        "\n",
        "tiempo_inicial = time()\n",
        "classifier.fit(X_train, y_train)\n",
        "\n",
        "# Realizamos la clasificación con el set de test\n",
        "mpl_pred = classifier.predict(X_test)\n",
        "tiempo_final = time()\n",
        "tiempo_ejecucion = tiempo_final - tiempo_inicial\n",
        "print('El tiempo de ejecución fue de: %.3f segundos' % tiempo_ejecucion)\n",
        "\n",
        "print(classification_report(y_test, mpl_pred, target_names=target_names))"
      ],
      "metadata": {
        "colab": {
          "base_uri": "https://localhost:8080/"
        },
        "id": "DZfu5kVdii8R",
        "outputId": "0c5f31da-0b6f-4913-8cad-87adabfa50f9"
      },
      "execution_count": null,
      "outputs": [
        {
          "output_type": "stream",
          "name": "stderr",
          "text": [
            "/usr/local/lib/python3.7/dist-packages/sklearn/neural_network/_multilayer_perceptron.py:696: ConvergenceWarning:\n",
            "\n",
            "Stochastic Optimizer: Maximum iterations (200) reached and the optimization hasn't converged yet.\n",
            "\n"
          ]
        },
        {
          "output_type": "stream",
          "name": "stdout",
          "text": [
            "El tiempo de ejecución fue de: 50.218 segundos\n",
            "                precision    recall  f1-score   support\n",
            "\n",
            "        Normal       0.94      0.98      0.96      7400\n",
            "       Generic       1.00      0.96      0.98      3774\n",
            "      Exploits       0.72      0.69      0.70      2227\n",
            "       Fuzzers       0.62      0.66      0.64      1212\n",
            "           DoS       0.43      0.50      0.46       818\n",
            "Reconnaissance       0.81      0.78      0.80       699\n",
            "      Analysis       0.83      0.04      0.07       135\n",
            "      Backdoor       0.00      0.00      0.00       117\n",
            "     Shellcode       0.51      0.29      0.37        76\n",
            "         Worms       0.00      0.00      0.00         9\n",
            "\n",
            "      accuracy                           0.86     16467\n",
            "     macro avg       0.59      0.49      0.50     16467\n",
            "  weighted avg       0.86      0.86      0.86     16467\n",
            "\n"
          ]
        },
        {
          "output_type": "stream",
          "name": "stderr",
          "text": [
            "/usr/local/lib/python3.7/dist-packages/sklearn/neural_network/_multilayer_perceptron.py:696: ConvergenceWarning:\n",
            "\n",
            "Stochastic Optimizer: Maximum iterations (200) reached and the optimization hasn't converged yet.\n",
            "\n",
            "/usr/local/lib/python3.7/dist-packages/sklearn/metrics/_classification.py:1318: UndefinedMetricWarning:\n",
            "\n",
            "Precision and F-score are ill-defined and being set to 0.0 in labels with no predicted samples. Use `zero_division` parameter to control this behavior.\n",
            "\n",
            "/usr/local/lib/python3.7/dist-packages/sklearn/metrics/_classification.py:1318: UndefinedMetricWarning:\n",
            "\n",
            "Precision and F-score are ill-defined and being set to 0.0 in labels with no predicted samples. Use `zero_division` parameter to control this behavior.\n",
            "\n",
            "/usr/local/lib/python3.7/dist-packages/sklearn/metrics/_classification.py:1318: UndefinedMetricWarning:\n",
            "\n",
            "Precision and F-score are ill-defined and being set to 0.0 in labels with no predicted samples. Use `zero_division` parameter to control this behavior.\n",
            "\n"
          ]
        }
      ]
    },
    {
      "cell_type": "code",
      "source": [
        "accuracy = accuracy_score(y_test, mpl_pred)\n",
        "recall = recall_score(y_test, mpl_pred, average='weighted')\n",
        "precision = precision_score(y_test, mpl_pred, average='weighted')\n",
        "f1s = f1_score(y_test, mpl_pred, average='weighted')\n",
        "resultados.loc['MPL'] = [accuracy, recall, precision, f1s,tiempo_ejecucion]"
      ],
      "metadata": {
        "colab": {
          "base_uri": "https://localhost:8080/"
        },
        "id": "wMlF8t76jVRh",
        "outputId": "63db172a-4b14-4e2c-c30d-75874e3aa87e"
      },
      "execution_count": null,
      "outputs": [
        {
          "output_type": "stream",
          "name": "stderr",
          "text": [
            "/usr/local/lib/python3.7/dist-packages/sklearn/metrics/_classification.py:1318: UndefinedMetricWarning:\n",
            "\n",
            "Precision is ill-defined and being set to 0.0 in labels with no predicted samples. Use `zero_division` parameter to control this behavior.\n",
            "\n"
          ]
        }
      ]
    },
    {
      "cell_type": "code",
      "source": [
        "cm = confusion_matrix(y_test,mpl_pred)\n",
        "acc = accuracy_score(y_test, mpl_pred)\n",
        "acc"
      ],
      "metadata": {
        "colab": {
          "base_uri": "https://localhost:8080/"
        },
        "id": "NTujangHjgsE",
        "outputId": "44ccf240-5420-42c3-9a9b-9c2fb035c9f6"
      },
      "execution_count": null,
      "outputs": [
        {
          "output_type": "execute_result",
          "data": {
            "text/plain": [
              "0.8617841744094249"
            ]
          },
          "metadata": {},
          "execution_count": 533
        }
      ]
    },
    {
      "cell_type": "code",
      "source": [
        "plt.figure(figsize=(10,6))\n",
        "ax = sns.heatmap(cm/np.sum(cm),annot=True,fmt='.2%', cmap='Blues')\n",
        "ax.set_title('Matriz de Confusión - MPL')\n",
        "ax.set_xlabel(f'Accuracy:{round(acc*100,2)}%')\n",
        "ax.set_ylabel('True label')\n",
        "\n",
        "ax.yaxis.set_ticklabels(target_names)\n",
        "ax.xaxis.set_ticklabels(target_names)\n",
        "plt.xticks(rotation=45)\n",
        "plt.yticks(rotation=0)\n",
        "plt.tight_layout()\n",
        "plt.show()"
      ],
      "metadata": {
        "colab": {
          "base_uri": "https://localhost:8080/",
          "height": 441
        },
        "id": "CNwsyMWXjh75",
        "outputId": "17c4b60e-1830-4ec8-9455-21192534b306"
      },
      "execution_count": null,
      "outputs": [
        {
          "output_type": "display_data",
          "data": {
            "text/plain": [
              "<Figure size 720x432 with 2 Axes>"
            ],
            "image/png": "[encoded data removed]"
          },
          "metadata": {}
        }
      ]
    },
    {
      "cell_type": "markdown",
      "source": [
        "Resultados"
      ],
      "metadata": {
        "id": "fgxD5OI8hG0q"
      }
    },
    {
      "cell_type": "code",
      "source": [
        "resultados.style.background_gradient(cmap='coolwarm').format({'Accuracy': '{:.2%}',\n",
        "                                                                     'Precision': '{:.2%}',\n",
        "                                                                     'Recall': '{:.2%}',\n",
        "                                                                     'F1-Score': '{:.2%}',\n",
        "                                                                     'time to train':'{:.1f}',\n",
        "                                                                     'time to predict':'{:.1f}',\n",
        "                                                                     'total time':'{:.1f}',\n",
        "                                                                     })"
      ],
      "metadata": {
        "colab": {
          "base_uri": "https://localhost:8080/",
          "height": 237
        },
        "id": "bdaKsTetiLbx",
        "outputId": "b4991159-6ba4-4e4f-c744-27006c360236"
      },
      "execution_count": null,
      "outputs": [
        {
          "output_type": "execute_result",
          "data": {
            "text/plain": [
              "<pandas.io.formats.style.Styler at 0x7f2889ff6dd0>"
            ],
            "text/html": [
              "<style type=\"text/css\">\n",
              "#T_334c3_row0_col0, #T_334c3_row0_col1, #T_334c3_row0_col2, #T_334c3_row0_col3, #T_334c3_row3_col4 {\n",
              "  background-color: #3b4cc0;\n",
              "  color: #f1f1f1;\n",
              "}\n",
              "#T_334c3_row0_col4 {\n",
              "  background-color: #3e51c5;\n",
              "  color: #f1f1f1;\n",
              "}\n",
              "#T_334c3_row1_col0, #T_334c3_row1_col1, #T_334c3_row1_col2, #T_334c3_row1_col3, #T_334c3_row5_col4 {\n",
              "  background-color: #b40426;\n",
              "  color: #f1f1f1;\n",
              "}\n",
              "#T_334c3_row1_col4 {\n",
              "  background-color: #cd423b;\n",
              "  color: #f1f1f1;\n",
              "}\n",
              "#T_334c3_row2_col0, #T_334c3_row2_col1, #T_334c3_row2_col3 {\n",
              "  background-color: #cfdaea;\n",
              "  color: #000000;\n",
              "}\n",
              "#T_334c3_row2_col2 {\n",
              "  background-color: #d3dbe7;\n",
              "  color: #000000;\n",
              "}\n",
              "#T_334c3_row2_col4 {\n",
              "  background-color: #f7aa8c;\n",
              "  color: #000000;\n",
              "}\n",
              "#T_334c3_row3_col0, #T_334c3_row3_col1, #T_334c3_row3_col2, #T_334c3_row3_col3 {\n",
              "  background-color: #f18d6f;\n",
              "  color: #f1f1f1;\n",
              "}\n",
              "#T_334c3_row4_col0, #T_334c3_row4_col1, #T_334c3_row4_col3 {\n",
              "  background-color: #c12b30;\n",
              "  color: #f1f1f1;\n",
              "}\n",
              "#T_334c3_row4_col2 {\n",
              "  background-color: #c0282f;\n",
              "  color: #f1f1f1;\n",
              "}\n",
              "#T_334c3_row4_col4 {\n",
              "  background-color: #6282ea;\n",
              "  color: #f1f1f1;\n",
              "}\n",
              "#T_334c3_row5_col0, #T_334c3_row5_col1, #T_334c3_row5_col2, #T_334c3_row5_col3 {\n",
              "  background-color: #f7a98b;\n",
              "  color: #000000;\n",
              "}\n",
              "</style>\n",
              "<table id=\"T_334c3_\" class=\"dataframe\">\n",
              "  <thead>\n",
              "    <tr>\n",
              "      <th class=\"blank level0\" >&nbsp;</th>\n",
              "      <th class=\"col_heading level0 col0\" >Accuracy</th>\n",
              "      <th class=\"col_heading level0 col1\" >Recall</th>\n",
              "      <th class=\"col_heading level0 col2\" >Precision</th>\n",
              "      <th class=\"col_heading level0 col3\" >F1-Score</th>\n",
              "      <th class=\"col_heading level0 col4\" >Tiempo Ejecución</th>\n",
              "    </tr>\n",
              "  </thead>\n",
              "  <tbody>\n",
              "    <tr>\n",
              "      <th id=\"T_334c3_level0_row0\" class=\"row_heading level0 row0\" >Logistic Regression</th>\n",
              "      <td id=\"T_334c3_row0_col0\" class=\"data row0 col0\" >92.89%</td>\n",
              "      <td id=\"T_334c3_row0_col1\" class=\"data row0 col1\" >92.89%</td>\n",
              "      <td id=\"T_334c3_row0_col2\" class=\"data row0 col2\" >92.93%</td>\n",
              "      <td id=\"T_334c3_row0_col3\" class=\"data row0 col3\" >92.90%</td>\n",
              "      <td id=\"T_334c3_row0_col4\" class=\"data row0 col4\" >1.698455</td>\n",
              "    </tr>\n",
              "    <tr>\n",
              "      <th id=\"T_334c3_level0_row1\" class=\"row_heading level0 row1\" >Random Forest</th>\n",
              "      <td id=\"T_334c3_row1_col0\" class=\"data row1 col0\" >97.68%</td>\n",
              "      <td id=\"T_334c3_row1_col1\" class=\"data row1 col1\" >97.68%</td>\n",
              "      <td id=\"T_334c3_row1_col2\" class=\"data row1 col2\" >97.69%</td>\n",
              "      <td id=\"T_334c3_row1_col3\" class=\"data row1 col3\" >97.68%</td>\n",
              "      <td id=\"T_334c3_row1_col4\" class=\"data row1 col4\" >34.984818</td>\n",
              "    </tr>\n",
              "    <tr>\n",
              "      <th id=\"T_334c3_level0_row2\" class=\"row_heading level0 row2\" >K Neighbors</th>\n",
              "      <td id=\"T_334c3_row2_col0\" class=\"data row2 col0\" >95.06%</td>\n",
              "      <td id=\"T_334c3_row2_col1\" class=\"data row2 col1\" >95.06%</td>\n",
              "      <td id=\"T_334c3_row2_col2\" class=\"data row2 col2\" >95.14%</td>\n",
              "      <td id=\"T_334c3_row2_col3\" class=\"data row2 col3\" >95.06%</td>\n",
              "      <td id=\"T_334c3_row2_col4\" class=\"data row2 col4\" >26.834613</td>\n",
              "    </tr>\n",
              "    <tr>\n",
              "      <th id=\"T_334c3_level0_row3\" class=\"row_heading level0 row3\" >Decision Tree</th>\n",
              "      <td id=\"T_334c3_row3_col0\" class=\"data row3 col0\" >96.63%</td>\n",
              "      <td id=\"T_334c3_row3_col1\" class=\"data row3 col1\" >96.63%</td>\n",
              "      <td id=\"T_334c3_row3_col2\" class=\"data row3 col2\" >96.63%</td>\n",
              "      <td id=\"T_334c3_row3_col3\" class=\"data row3 col3\" >96.63%</td>\n",
              "      <td id=\"T_334c3_row3_col4\" class=\"data row3 col4\" >1.168357</td>\n",
              "    </tr>\n",
              "    <tr>\n",
              "      <th id=\"T_334c3_level0_row4\" class=\"row_heading level0 row4\" >Extra Trees</th>\n",
              "      <td id=\"T_334c3_row4_col0\" class=\"data row4 col0\" >97.51%</td>\n",
              "      <td id=\"T_334c3_row4_col1\" class=\"data row4 col1\" >97.51%</td>\n",
              "      <td id=\"T_334c3_row4_col2\" class=\"data row4 col2\" >97.53%</td>\n",
              "      <td id=\"T_334c3_row4_col3\" class=\"data row4 col3\" >97.51%</td>\n",
              "      <td id=\"T_334c3_row4_col4\" class=\"data row4 col4\" >5.775245</td>\n",
              "    </tr>\n",
              "    <tr>\n",
              "      <th id=\"T_334c3_level0_row5\" class=\"row_heading level0 row5\" >MPL</th>\n",
              "      <td id=\"T_334c3_row5_col0\" class=\"data row5 col0\" >96.29%</td>\n",
              "      <td id=\"T_334c3_row5_col1\" class=\"data row5 col1\" >96.29%</td>\n",
              "      <td id=\"T_334c3_row5_col2\" class=\"data row5 col2\" >96.31%</td>\n",
              "      <td id=\"T_334c3_row5_col3\" class=\"data row5 col3\" >96.29%</td>\n",
              "      <td id=\"T_334c3_row5_col4\" class=\"data row5 col4\" >37.613620</td>\n",
              "    </tr>\n",
              "  </tbody>\n",
              "</table>\n"
            ]
          },
          "metadata": {},
          "execution_count": 507
        }
      ]
    },
    {
      "cell_type": "code",
      "source": [
        "#ROC\n",
        "\n",
        "fpr, tpr, _ = metrics.roc_curve(y_test, logistic_regression_pred)\n",
        "auc = round(metrics.roc_auc_score(y_test,logistic_regression_pred), 4)\n",
        "plt.plot(fpr,tpr,label=\"Logistic Regression, AUC=\"+str(auc))\n",
        "\n",
        "fpr, tpr, _ = metrics.roc_curve(y_test, random_forest_pred)\n",
        "auc = round(metrics.roc_auc_score(y_test,random_forest_pred), 4)\n",
        "plt.plot(fpr,tpr,label=\"Random Forest, AUC=\"+str(auc))\n",
        "\n",
        "fpr, tpr, _ = metrics.roc_curve(y_test, KNeighbors_pred)\n",
        "auc = round(metrics.roc_auc_score(y_test,KNeighbors_pred), 4)\n",
        "plt.plot(fpr,tpr,label=\"K Neighbors, AUC=\"+str(auc))\n",
        "\n",
        "fpr, tpr, _ = metrics.roc_curve(y_test, decision_tree_pred)\n",
        "auc = round(metrics.roc_auc_score(y_test,decision_tree_pred), 4)\n",
        "plt.plot(fpr,tpr,label=\"Decision Tree, AUC=\"+str(auc))\n",
        "\n",
        "fpr, tpr, _ = metrics.roc_curve(y_test,extra_trees_pred)\n",
        "auc = round(metrics.roc_auc_score(y_test,extra_trees_pred), 4)\n",
        "plt.plot(fpr,tpr,label=\"Extra Trees, AUC=\"+str(auc))\n",
        "\n",
        "fpr, tpr, _ = metrics.roc_curve(y_test, mpl_pred)\n",
        "auc = round(metrics.roc_auc_score(y_test,mpl_pred), 4)\n",
        "plt.plot(fpr,tpr,label=\"MPL, AUC=\"+str(auc))\n",
        "\n",
        "#add legend\n",
        "plt.legend()"
      ],
      "metadata": {
        "colab": {
          "base_uri": "https://localhost:8080/",
          "height": 338
        },
        "id": "dHNXcs7418Lv",
        "outputId": "96a7e7d6-54da-458a-93b3-382d5f739159"
      },
      "execution_count": null,
      "outputs": [
        {
          "output_type": "execute_result",
          "data": {
            "text/plain": [
              "<matplotlib.legend.Legend at 0x7f28844c8050>"
            ]
          },
          "metadata": {},
          "execution_count": 508
        },
        {
          "output_type": "display_data",
          "data": {
            "text/plain": [
              "<Figure size 360x360 with 1 Axes>"
            ],
            "image/png": "[encoded data removed]"
          },
          "metadata": {}
        }
      ]
    },
    {
      "cell_type": "markdown",
      "source": [
        "MODELO HÍBRIDO"
      ],
      "metadata": {
        "id": "akw1BgJBtPdP"
      }
    },
    {
      "cell_type": "code",
      "source": [
        "final_pred = []\n",
        "#Modelo Híbrido\n",
        "for i in range(len(y_test)):\n",
        "  if(decision_tree_pred[i] == random_forest_pred[i] == extra_trees_pred[i]):\n",
        "    final_pred.append(decision_tree_pred[i])\n",
        "  elif(decision_tree_pred[i] == random_forest_pred[i]):\n",
        "    final_pred.append(decision_tree_pred[i])\n",
        "  elif(decision_tree_pred[i] != random_forest_pred[i]):\n",
        "    if(decision_tree_pred[i] == extra_trees_pred[i]):\n",
        "      final_pred.append(decision_tree_pred[i])\n",
        "    elif(extra_trees_pred[i] == random_forest_pred[i]):\n",
        "      final_pred.append(random_forest_pred[i])\n",
        "    else:\n",
        "      final_pred.append(decision_tree_pred[i])\n",
        "\n"
      ],
      "metadata": {
        "id": "MQIUmfNPtQ_O"
      },
      "execution_count": null,
      "outputs": []
    }
  ]
}